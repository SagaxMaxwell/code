{
 "cells": [
  {
   "cell_type": "markdown",
   "id": "eae945b3",
   "metadata": {},
   "source": [
    "#### 定时调度器\n",
    "\n",
    "---"
   ]
  },
  {
   "cell_type": "markdown",
   "id": "736db859",
   "metadata": {},
   "source": [
    "##### sched"
   ]
  },
  {
   "cell_type": "code",
   "execution_count": null,
   "id": "67721efb",
   "metadata": {},
   "outputs": [],
   "source": [
    "import sched\n",
    "import time\n",
    "import random\n",
    "from threading import Thread\n",
    "from queue import Queue\n",
    "\n",
    "scheduler = sched.scheduler(time.time, time.sleep)\n",
    "goods = Queue()\n",
    "\n",
    "\n",
    "def make():\n",
    "    good = random.randrange(1, 100)\n",
    "    goods.put(good)\n",
    "    print(f\"Produced: {good}\")\n",
    "\n",
    "\n",
    "def procude() -> None:\n",
    "    while True:\n",
    "        scheduler.enter(1, 1, make)\n",
    "        scheduler.run()\n",
    "\n",
    "\n",
    "def consume() -> None:\n",
    "    while True:\n",
    "        time.sleep(random.randint(1, 3))\n",
    "        if goods.empty():\n",
    "            print(f\"Nothing to consume...\")\n",
    "            continue\n",
    "        good = goods.get()\n",
    "        print(f\"Consumed: {good}\")\n",
    "\n",
    "\n",
    "producer = Thread(target=procude)\n",
    "producer.start()\n",
    "consumer = Thread(target=consume)\n",
    "consumer.start()"
   ]
  },
  {
   "cell_type": "markdown",
   "id": "144499b8",
   "metadata": {},
   "source": [
    "##### APScheduler"
   ]
  },
  {
   "cell_type": "markdown",
   "id": "ea17ebe2",
   "metadata": {},
   "source": [
    "- 基本调度器设置"
   ]
  },
  {
   "cell_type": "code",
   "execution_count": 5,
   "id": "04d0e59c",
   "metadata": {},
   "outputs": [],
   "source": [
    "from apscheduler.schedulers.background import BackgroundScheduler\n",
    "\n",
    "scheduler = BackgroundScheduler()\n",
    "scheduler.configure(timezone='UTC')  # 设置调度器参数"
   ]
  },
  {
   "cell_type": "markdown",
   "id": "96ce0382",
   "metadata": {},
   "source": [
    "- 添加/管理任务"
   ]
  },
  {
   "cell_type": "code",
   "execution_count": 6,
   "id": "5606b6a1",
   "metadata": {},
   "outputs": [
    {
     "ename": "AttributeError",
     "evalue": "The following are not modifiable attributes of Job: seconds",
     "output_type": "error",
     "traceback": [
      "\u001b[0;31m---------------------------------------------------------------------------\u001b[0m",
      "\u001b[0;31mAttributeError\u001b[0m                            Traceback (most recent call last)",
      "Cell \u001b[0;32mIn[6], line 11\u001b[0m\n\u001b[1;32m      8\u001b[0m job_ref \u001b[38;5;241m=\u001b[39m scheduler\u001b[38;5;241m.\u001b[39mget_job(\u001b[38;5;124m'\u001b[39m\u001b[38;5;124mmy_job\u001b[39m\u001b[38;5;124m'\u001b[39m)\n\u001b[1;32m     10\u001b[0m \u001b[38;5;66;03m# 修改任务\u001b[39;00m\n\u001b[0;32m---> 11\u001b[0m \u001b[43mscheduler\u001b[49m\u001b[38;5;241;43m.\u001b[39;49m\u001b[43mmodify_job\u001b[49m\u001b[43m(\u001b[49m\u001b[38;5;124;43m'\u001b[39;49m\u001b[38;5;124;43mmy_job\u001b[39;49m\u001b[38;5;124;43m'\u001b[39;49m\u001b[43m,\u001b[49m\u001b[43m \u001b[49m\u001b[43mseconds\u001b[49m\u001b[38;5;241;43m=\u001b[39;49m\u001b[38;5;241;43m5\u001b[39;49m\u001b[43m)\u001b[49m\n\u001b[1;32m     13\u001b[0m \u001b[38;5;66;03m# 暂停任务\u001b[39;00m\n\u001b[1;32m     14\u001b[0m scheduler\u001b[38;5;241m.\u001b[39mpause_job(\u001b[38;5;124m'\u001b[39m\u001b[38;5;124mmy_job\u001b[39m\u001b[38;5;124m'\u001b[39m)\n",
      "File \u001b[0;32m~/Documents/code/venv/lib/python3.9/site-packages/apscheduler/schedulers/base.py:580\u001b[0m, in \u001b[0;36mBaseScheduler.modify_job\u001b[0;34m(self, job_id, jobstore, **changes)\u001b[0m\n\u001b[1;32m    578\u001b[0m \u001b[38;5;28;01mwith\u001b[39;00m \u001b[38;5;28mself\u001b[39m\u001b[38;5;241m.\u001b[39m_jobstores_lock:\n\u001b[1;32m    579\u001b[0m     job, jobstore \u001b[38;5;241m=\u001b[39m \u001b[38;5;28mself\u001b[39m\u001b[38;5;241m.\u001b[39m_lookup_job(job_id, jobstore)\n\u001b[0;32m--> 580\u001b[0m     \u001b[43mjob\u001b[49m\u001b[38;5;241;43m.\u001b[39;49m\u001b[43m_modify\u001b[49m\u001b[43m(\u001b[49m\u001b[38;5;241;43m*\u001b[39;49m\u001b[38;5;241;43m*\u001b[39;49m\u001b[43mchanges\u001b[49m\u001b[43m)\u001b[49m\n\u001b[1;32m    581\u001b[0m     \u001b[38;5;28;01mif\u001b[39;00m jobstore:\n\u001b[1;32m    582\u001b[0m         \u001b[38;5;28mself\u001b[39m\u001b[38;5;241m.\u001b[39m_lookup_jobstore(jobstore)\u001b[38;5;241m.\u001b[39mupdate_job(job)\n",
      "File \u001b[0;32m~/Documents/code/venv/lib/python3.9/site-packages/apscheduler/job.py:248\u001b[0m, in \u001b[0;36mJob._modify\u001b[0;34m(self, **changes)\u001b[0m\n\u001b[1;32m    243\u001b[0m     approved[\u001b[38;5;124m\"\u001b[39m\u001b[38;5;124mnext_run_time\u001b[39m\u001b[38;5;124m\"\u001b[39m] \u001b[38;5;241m=\u001b[39m convert_to_datetime(\n\u001b[1;32m    244\u001b[0m         value, \u001b[38;5;28mself\u001b[39m\u001b[38;5;241m.\u001b[39m_scheduler\u001b[38;5;241m.\u001b[39mtimezone, \u001b[38;5;124m\"\u001b[39m\u001b[38;5;124mnext_run_time\u001b[39m\u001b[38;5;124m\"\u001b[39m\n\u001b[1;32m    245\u001b[0m     )\n\u001b[1;32m    247\u001b[0m \u001b[38;5;28;01mif\u001b[39;00m changes:\n\u001b[0;32m--> 248\u001b[0m     \u001b[38;5;28;01mraise\u001b[39;00m \u001b[38;5;167;01mAttributeError\u001b[39;00m(\n\u001b[1;32m    249\u001b[0m         \u001b[38;5;124m\"\u001b[39m\u001b[38;5;124mThe following are not modifiable attributes of Job: \u001b[39m\u001b[38;5;132;01m{}\u001b[39;00m\u001b[38;5;124m\"\u001b[39m\u001b[38;5;241m.\u001b[39mformat(\n\u001b[1;32m    250\u001b[0m             \u001b[38;5;124m\"\u001b[39m\u001b[38;5;124m, \u001b[39m\u001b[38;5;124m\"\u001b[39m\u001b[38;5;241m.\u001b[39mjoin(changes)\n\u001b[1;32m    251\u001b[0m         )\n\u001b[1;32m    252\u001b[0m     )\n\u001b[1;32m    254\u001b[0m \u001b[38;5;28;01mfor\u001b[39;00m key, value \u001b[38;5;129;01min\u001b[39;00m approved\u001b[38;5;241m.\u001b[39mitems():\n\u001b[1;32m    255\u001b[0m     \u001b[38;5;28msetattr\u001b[39m(\u001b[38;5;28mself\u001b[39m, key, value)\n",
      "\u001b[0;31mAttributeError\u001b[0m: The following are not modifiable attributes of Job: seconds"
     ]
    }
   ],
   "source": [
    "def job():\n",
    "    print(\"任务执行\")\n",
    "\n",
    "# 添加任务\n",
    "scheduler.add_job(job, 'interval', seconds=2, id='my_job')\n",
    "\n",
    "# 获取任务\n",
    "job_ref = scheduler.get_job('my_job')\n",
    "\n",
    "# 修改任务\n",
    "scheduler.modify_job('my_job', seconds=5)\n",
    "\n",
    "# 暂停任务\n",
    "scheduler.pause_job('my_job')\n",
    "\n",
    "# 恢复任务\n",
    "scheduler.resume_job('my_job')\n",
    "\n",
    "# 删除任务\n",
    "scheduler.remove_job('my_job')\n",
    "\n",
    "# 删除所有任务\n",
    "scheduler.remove_all_jobs()\n",
    "\n",
    "# 查看所有任务\n",
    "scheduler.print_jobs()"
   ]
  },
  {
   "cell_type": "markdown",
   "id": "f96eecc4",
   "metadata": {},
   "source": [
    "- 添加/删除执行器（executor）"
   ]
  },
  {
   "cell_type": "code",
   "execution_count": null,
   "id": "a4f07adf",
   "metadata": {},
   "outputs": [],
   "source": [
    "from apscheduler.executors.pool import ThreadPoolExecutor\n",
    "\n",
    "# 添加执行器（最多3个并发线程）\n",
    "scheduler.add_executor(ThreadPoolExecutor(3), alias='my_executor')\n",
    "\n",
    "# 移除执行器\n",
    "scheduler.remove_executor('my_executor')"
   ]
  },
  {
   "cell_type": "markdown",
   "id": "a9f85a03",
   "metadata": {},
   "source": [
    "- 添加/删除任务存储（jobstore）"
   ]
  },
  {
   "cell_type": "code",
   "execution_count": null,
   "id": "7f41177d",
   "metadata": {},
   "outputs": [],
   "source": [
    "from apscheduler.jobstores.memory import MemoryJobStore\n",
    "\n",
    "# 添加任务存储\n",
    "scheduler.add_jobstore(MemoryJobStore(), alias='my_store')\n",
    "\n",
    "# 删除任务存储\n",
    "scheduler.remove_jobstore('my_store')"
   ]
  },
  {
   "cell_type": "markdown",
   "id": "bebea5f0",
   "metadata": {},
   "source": [
    "- 添加/移除监听器 (listener)"
   ]
  },
  {
   "cell_type": "code",
   "execution_count": null,
   "id": "c753d84d",
   "metadata": {},
   "outputs": [],
   "source": [
    "from apscheduler.events import EVENT_JOB_EXECUTED, EVENT_JOB_ERROR\n",
    "\n",
    "def listener(event):\n",
    "    if event.exception:\n",
    "        print(\"任务出错\")\n",
    "    else:\n",
    "        print(\"任务成功\")\n",
    "\n",
    "# 添加监听器\n",
    "scheduler.add_listener(listener, EVENT_JOB_EXECUTED | EVENT_JOB_ERROR)\n",
    "\n",
    "# 移除监听器\n",
    "scheduler.remove_listener(listener)"
   ]
  },
  {
   "cell_type": "markdown",
   "id": "8e6020f5",
   "metadata": {},
   "source": [
    "- 控制调度器运行状态"
   ]
  },
  {
   "cell_type": "code",
   "execution_count": null,
   "id": "4fa3a976",
   "metadata": {},
   "outputs": [],
   "source": [
    "# 启动\n",
    "scheduler.start()\n",
    "\n",
    "# 暂停整个调度器\n",
    "scheduler.pause()\n",
    "\n",
    "# 恢复整个调度器\n",
    "scheduler.resume()\n",
    "\n",
    "# 唤醒调度器（立即处理下一个任务）\n",
    "scheduler.wakeup()\n",
    "\n",
    "# 停止调度器\n",
    "scheduler.shutdown(wait=True)"
   ]
  },
  {
   "cell_type": "markdown",
   "id": "e08c32ae",
   "metadata": {},
   "source": [
    "- 导入/导出任务（依赖 jobstore 支持）"
   ]
  },
  {
   "cell_type": "code",
   "execution_count": null,
   "id": "a2e93c43",
   "metadata": {},
   "outputs": [],
   "source": [
    "# 导出任务\n",
    "jobs = scheduler.export_jobs()\n",
    "\n",
    "# 导入任务\n",
    "scheduler.import_jobs(jobs)"
   ]
  },
  {
   "cell_type": "markdown",
   "id": "6a52ad3d",
   "metadata": {},
   "source": [
    "##### 两者区别\n",
    "\n",
    "- sched 不支持周期循环\n",
    "- APScheduler 更加稳定"
   ]
  }
 ],
 "metadata": {
  "kernelspec": {
   "display_name": "venv",
   "language": "python",
   "name": "python3"
  },
  "language_info": {
   "codemirror_mode": {
    "name": "ipython",
    "version": 3
   },
   "file_extension": ".py",
   "mimetype": "text/x-python",
   "name": "python",
   "nbconvert_exporter": "python",
   "pygments_lexer": "ipython3",
   "version": "3.9.6"
  }
 },
 "nbformat": 4,
 "nbformat_minor": 5
}

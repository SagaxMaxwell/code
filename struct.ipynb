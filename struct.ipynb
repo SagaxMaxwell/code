{
 "cells": [
  {
   "cell_type": "markdown",
   "id": "4d4d3454",
   "metadata": {},
   "source": [
    "#### bisect"
   ]
  },
  {
   "cell_type": "code",
   "execution_count": 3,
   "id": "f5ca33b8",
   "metadata": {},
   "outputs": [
    {
     "name": "stdout",
     "output_type": "stream",
     "text": [
      "[-1, 1, 4, 7]\n"
     ]
    }
   ],
   "source": [
    "import bisect\n",
    "\n",
    "\n",
    "production = list()\n",
    "bisect.insort(production, 1)\n",
    "bisect.insort(production, 4)\n",
    "bisect.insort(production, 7)\n",
    "bisect.insort(production, -1)\n",
    "print(production)"
   ]
  },
  {
   "cell_type": "markdown",
   "id": "52307ccf",
   "metadata": {},
   "source": [
    "#### OrderedDict"
   ]
  },
  {
   "cell_type": "code",
   "execution_count": 4,
   "id": "0b1e4415",
   "metadata": {},
   "outputs": [
    {
     "name": "stdout",
     "output_type": "stream",
     "text": [
      "OrderedDict([('a', 1), ('b', 100), ('c', 3), ('d', -1)])\n",
      "OrderedDict([('b', 100), ('c', 3), ('d', -1), ('a', 1)])\n"
     ]
    }
   ],
   "source": [
    "from collections import OrderedDict\n",
    "\n",
    "\n",
    "map = OrderedDict()\n",
    "map['a'] = 1\n",
    "map['b'] = 100\n",
    "map['c'] = 3\n",
    "map['d'] = -1\n",
    "print(map)\n",
    "\n",
    "map.move_to_end('a', last=True)\n",
    "print(map)"
   ]
  }
 ],
 "metadata": {
  "kernelspec": {
   "display_name": "Python 3",
   "language": "python",
   "name": "python3"
  },
  "language_info": {
   "codemirror_mode": {
    "name": "ipython",
    "version": 3
   },
   "file_extension": ".py",
   "mimetype": "text/x-python",
   "name": "python",
   "nbconvert_exporter": "python",
   "pygments_lexer": "ipython3",
   "version": "3.9.6"
  }
 },
 "nbformat": 4,
 "nbformat_minor": 5
}

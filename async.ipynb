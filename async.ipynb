{
 "cells": [
  {
   "cell_type": "markdown",
   "id": "a80fabe8",
   "metadata": {},
   "source": [
    "#### threading\n",
    "\n",
    "---"
   ]
  },
  {
   "cell_type": "markdown",
   "id": "6591a149",
   "metadata": {},
   "source": [
    "#### Event"
   ]
  },
  {
   "cell_type": "code",
   "execution_count": null,
   "id": "4a8f8c6a",
   "metadata": {},
   "outputs": [
    {
     "name": "stdout",
     "output_type": "stream",
     "text": [
      "Countdown from 5 started\n",
      "Countdown: 5\n",
      "Countdown: 4\n",
      "Countdown: 3\n",
      "Countdown: 2\n",
      "Countdown: 1\n",
      "Countdown from 5 finished\n",
      "Countdown completed, main thread continues\n"
     ]
    }
   ],
   "source": [
    "from threading import Event, Thread\n",
    "import time\n",
    "\n",
    "\n",
    "def countdown(number: int, event: Event) -> None:\n",
    "    print(f\"Countdown from {number} started\")\n",
    "    for index in range(number):\n",
    "        print(f\"Countdown: {number - index}\")\n",
    "        time.sleep(1)\n",
    "    print(f\"Countdown from {number} finished\")\n",
    "    event.set()\n",
    "\n",
    "\n",
    "event = Event()\n",
    "\n",
    "thread = Thread(target=countdown, args=(5, event))\n",
    "thread.start()\n",
    "\n",
    "event.wait()\n",
    "print(\"Countdown completed, main thread continues\")\n",
    "\n",
    "event.clear()"
   ]
  },
  {
   "cell_type": "markdown",
   "id": "ec4747d0",
   "metadata": {},
   "source": [
    "#### Condition"
   ]
  },
  {
   "cell_type": "code",
   "execution_count": 9,
   "id": "f1fc149b",
   "metadata": {},
   "outputs": [
    {
     "name": "stdout",
     "output_type": "stream",
     "text": [
      "Produced 0\n",
      "Consumed 0\n",
      "等待生产...\n",
      "Produced 1\n",
      "Consumed 1\n",
      "等待生产...\n",
      "Produced 2\n",
      "Consumed 2\n",
      "等待生产...\n",
      "Produced 3\n",
      "Consumed 3\n",
      "等待生产...\n",
      "Produced 4\n",
      "Consumed 4\n",
      "等待生产...\n"
     ]
    }
   ],
   "source": [
    "from threading import Condition, Thread\n",
    "import time\n",
    "\n",
    "\n",
    "def produce(condition: Condition, items: list) -> None:\n",
    "    for item in range(5):\n",
    "        with condition:  # ✅ 每次生产时短暂持有锁\n",
    "            items.append(item)\n",
    "            print(f\"Produced {item}\")\n",
    "            condition.notify()\n",
    "        time.sleep(2)\n",
    "\n",
    "\n",
    "def consume(condition: Condition, items: list) -> None:\n",
    "    while True:  # ✅ 持续消费\n",
    "        with condition:\n",
    "            while not items:\n",
    "                print(\"等待生产...\")\n",
    "                condition.wait()\n",
    "            item = items.pop(0)\n",
    "            print(f\"Consumed {item}\")\n",
    "\n",
    "\n",
    "items = []\n",
    "condition = Condition()\n",
    "\n",
    "producer_thread = Thread(target=produce, args=(condition, items))\n",
    "consumer_thread = Thread(target=consume, args=(condition, items))\n",
    "\n",
    "producer_thread.start()\n",
    "consumer_thread.start()\n",
    "\n",
    "producer_thread.join()"
   ]
  },
  {
   "cell_type": "markdown",
   "id": "93a7eda4",
   "metadata": {},
   "source": [
    "#### Lock"
   ]
  },
  {
   "cell_type": "code",
   "execution_count": null,
   "id": "b24f78ca",
   "metadata": {},
   "outputs": [
    {
     "name": "stdout",
     "output_type": "stream",
     "text": [
      "Processing Data Source\n",
      "Wait Data Source\n",
      "Wait Data Source\n",
      "Wait Data Source\n",
      "Wait Data Source\n",
      "Wait Data Source\n",
      "Finished processing Data Source\n",
      "Get Data Source\n"
     ]
    }
   ],
   "source": [
    "from threading import Lock, Thread\n",
    "import time\n",
    "\n",
    "\n",
    "def process(source: any, lock: Lock) -> None:\n",
    "    with lock:\n",
    "        print(f\"Processing {source}\")\n",
    "        time.sleep(5)\n",
    "        print(f\"Finished processing {source}\")\n",
    "\n",
    "\n",
    "def get(source: any, lock: Lock) -> None:\n",
    "    while True:\n",
    "        if lock.locked():\n",
    "            print(f\"Wait {source}\")\n",
    "            time.sleep(1)\n",
    "        else:\n",
    "            print(f\"Get {source}\")\n",
    "            break\n",
    "\n",
    "\n",
    "lock = Lock()\n",
    "source = \"Data Source\"\n",
    "process_thread = Thread(target=process, args=(source, lock))\n",
    "get_thread = Thread(target=get, args=(source, lock))\n",
    "process_thread.start()\n",
    "get_thread.start()\n",
    "process_thread.join()\n",
    "get_thread.join()"
   ]
  },
  {
   "cell_type": "markdown",
   "id": "0996fff3",
   "metadata": {},
   "source": [
    "#### RLock"
   ]
  },
  {
   "cell_type": "code",
   "execution_count": null,
   "id": "56512924",
   "metadata": {},
   "outputs": [
    {
     "name": "stdout",
     "output_type": "stream",
     "text": [
      "🔒 [Process] 开始处理 关键数据\n",
      "💾 [Save] 保存 关键数据 的结果\n",
      "✅ [Process] 完成处理 关键数据\n"
     ]
    }
   ],
   "source": [
    "from threading import RLock, Thread\n",
    "import time\n",
    "\n",
    "\n",
    "def process_data(source: str, lock: RLock) -> None:\n",
    "    with lock:  # 第一次获取锁\n",
    "        print(f\"🔒 [Process] 开始处理 {source}\")\n",
    "        time.sleep(1)\n",
    "\n",
    "        # 嵌套调用需要同一把锁的函数\n",
    "        save_result(source, lock)  # ⭐ 这里需要再次获取锁\n",
    "        print(f\"✅ [Process] 完成处理 {source}\")\n",
    "\n",
    "\n",
    "def save_result(source: str, lock: RLock) -> None:\n",
    "    with lock:  # 第二次获取锁（RLock 允许同一线程重复获取）\n",
    "        print(f\"💾 [Save] 保存 {source} 的结果\")\n",
    "        time.sleep(0.5)\n",
    "\n",
    "\n",
    "# 使用 RLock 代替 Lock\n",
    "lock = RLock()\n",
    "source = \"关键数据\"\n",
    "\n",
    "# 启动线程\n",
    "t = Thread(target=process_data, args=(source, lock))\n",
    "t.start()\n",
    "t.join()"
   ]
  },
  {
   "cell_type": "markdown",
   "id": "e98d9386",
   "metadata": {},
   "source": [
    "#### Lock/RLock\n",
    "\n",
    "|特性|`Lock` (普通锁)|`RLock` (可重入锁)|\n",
    "|---|---|---|\n",
    "|**重入性**|❌ 同一线程无法重复获取锁|✅ 同一线程可多次获取锁|\n",
    "|**锁的持有者**|不记录持有线程|记录持有线程和递归深度|\n",
    "|**释放机制**|必须由获取锁的线程释放|必须由获取锁的线程释放，且释放次数需匹配|\n",
    "|**性能**|更高（简单实现）|略低（需要维护递归计数）|\n",
    "|**适用场景**|简单的互斥操作|嵌套/递归调用的代码|\n",
    "\n",
    "#### 安全使用锁\n",
    "\n",
    "- 所有线程获取锁的顺序要一致\n",
    "- 使用超时机制 `acquire(timeout=3)`\n",
    "\n",
    "#### 同时按照顺序获取多个锁的简洁写法\n",
    "\n",
    "```python\n",
    "with lock_a, lock_b:\n",
    "    # 等同于 with lock_a: with lock_b:\n",
    "    ...\n",
    "```"
   ]
  },
  {
   "cell_type": "markdown",
   "id": "371d7a12",
   "metadata": {},
   "source": [
    "#### Barrier"
   ]
  },
  {
   "cell_type": "code",
   "execution_count": 6,
   "id": "0c36ac06",
   "metadata": {},
   "outputs": [
    {
     "name": "stdout",
     "output_type": "stream",
     "text": [
      "线程 2 数据加载完成（耗时 2.5s）\n",
      "线程 1 数据加载完成（耗时 2.6s）\n",
      "线程 3 数据加载完成（耗时 2.9s）\n",
      "\n",
      "== 所有线程完成数据加载，开始清洗 ==\n",
      "\n",
      "线程 3 数据清洗完成（耗时 2.3s）\n",
      "线程 1 数据清洗完成（耗时 3.0s）\n",
      "线程 2 数据清洗完成（耗时 3.5s）\n",
      "\n",
      "== 所有线程完成数据清洗，开始分析 ==\n",
      "\n",
      "线程 3 数据分析完成（耗时 2.3s）\n",
      "线程 2 数据分析完成（耗时 3.6s）\n",
      "线程 1 数据分析完成（耗时 3.7s）\n",
      "所有处理阶段完成！\n"
     ]
    }
   ],
   "source": [
    "import threading\n",
    "import time\n",
    "import random\n",
    "\n",
    "\n",
    "# 定义阶段数量（每个阶段一个 Barrier）\n",
    "phase1_barrier = threading.Barrier(\n",
    "    parties=3, action=lambda: print(\"\\n== 所有线程完成数据加载，开始清洗 ==\\n\")\n",
    ")\n",
    "phase2_barrier = threading.Barrier(\n",
    "    parties=3, action=lambda: print(\"\\n== 所有线程完成数据清洗，开始分析 ==\\n\")\n",
    ")\n",
    "\n",
    "\n",
    "def data_processing(thread_id):\n",
    "    # 第一阶段：数据加载\n",
    "    load_time = random.uniform(2, 4)\n",
    "    time.sleep(load_time)\n",
    "    print(f\"线程 {thread_id} 数据加载完成（耗时 {load_time:.1f}s）\")\n",
    "\n",
    "    phase1_barrier.wait()  # 等待所有线程完成加载\n",
    "\n",
    "    # 第二阶段：数据清洗\n",
    "    clean_time = random.uniform(2, 4)\n",
    "    time.sleep(clean_time)\n",
    "    print(f\"线程 {thread_id} 数据清洗完成（耗时 {clean_time:.1f}s）\")\n",
    "\n",
    "    phase2_barrier.wait()  # 等待所有线程完成清洗\n",
    "\n",
    "    # 第三阶段：数据分析\n",
    "    analysis_time = random.uniform(2, 4)\n",
    "    time.sleep(analysis_time)\n",
    "    print(f\"线程 {thread_id} 数据分析完成（耗时 {analysis_time:.1f}s）\")\n",
    "\n",
    "\n",
    "# 创建 3 个线程\n",
    "threads = []\n",
    "for i in range(1, 4):\n",
    "    t = threading.Thread(target=data_processing, args=(i,))\n",
    "    threads.append(t)\n",
    "    t.start()\n",
    "\n",
    "# 等待所有线程完成\n",
    "for t in threads:\n",
    "    t.join()\n",
    "\n",
    "print(\"所有处理阶段完成！\")"
   ]
  },
  {
   "cell_type": "markdown",
   "id": "892279f9",
   "metadata": {},
   "source": [
    "#### Semaphore"
   ]
  },
  {
   "cell_type": "code",
   "execution_count": 17,
   "id": "312a1a35",
   "metadata": {},
   "outputs": [
    {
     "name": "stdout",
     "output_type": "stream",
     "text": [
      "⌛️ Thread-0 has acquired the resource.⌛️ Thread-1 has acquired the resource.\n",
      "⌛️ Thread-2 has acquired the resource.\n",
      "\n",
      "✅ Thread-0 has released the resource.\n",
      "⌛️ Thread-3 has acquired the resource.\n",
      "✅ Thread-2 has released the resource.\n",
      "⌛️ Thread-4 has acquired the resource.\n",
      "✅ Thread-1 has released the resource.\n",
      "✅ Thread-3 has released the resource.\n",
      "✅ Thread-4 has released the resource.\n",
      "All threads have finished.\n"
     ]
    }
   ],
   "source": [
    "import threading\n",
    "import time\n",
    "import random\n",
    "\n",
    "# 初始化一个信号量，允许最多 3 个线程同时访问\n",
    "semaphore = threading.Semaphore(3)\n",
    "\n",
    "\n",
    "def access_resource(thread_id):\n",
    "    with semaphore:  # 请求信号量，如果信号量计数大于 0，线程才能继续\n",
    "        print(f\"⌛️ Thread-{thread_id} has acquired the resource.\")\n",
    "        time.sleep(random.uniform(2, 4))  # 模拟线程使用资源的时间\n",
    "        print(f\"✅ Thread-{thread_id} has released the resource.\")\n",
    "\n",
    "\n",
    "# 创建并启动 5 个线程\n",
    "threads = []\n",
    "for i in range(5):\n",
    "    t = threading.Thread(target=access_resource, args=(i,))\n",
    "    t.start()\n",
    "    threads.append(t)\n",
    "\n",
    "# 等待所有线程完成\n",
    "for t in threads:\n",
    "    t.join()\n",
    "\n",
    "print(\"All threads have finished.\")"
   ]
  },
  {
   "cell_type": "markdown",
   "id": "a5344667",
   "metadata": {},
   "source": [
    "#### BoundedSemaphore"
   ]
  },
  {
   "cell_type": "code",
   "execution_count": null,
   "id": "f5aa53ea",
   "metadata": {},
   "outputs": [
    {
     "name": "stdout",
     "output_type": "stream",
     "text": [
      "Semaphore released failed, Semaphore released too many times\n",
      "Semaphore released successfully\n"
     ]
    }
   ],
   "source": [
    "import threading\n",
    "\n",
    "\n",
    "bounded_semaphore = threading.BoundedSemaphore(3)\n",
    "\n",
    "try:\n",
    "    bounded_semaphore.release()\n",
    "except ValueError as e:\n",
    "    print(f\"Semaphore released failed, {e}\")\n",
    "\n",
    "try:\n",
    "    bounded_semaphore.acquire(timeout=0.1)\n",
    "    bounded_semaphore.release()\n",
    "    print(\"Semaphore released successfully\")\n",
    "except ValueError as e:\n",
    "    print(e)"
   ]
  },
  {
   "cell_type": "markdown",
   "id": "e9c6e802",
   "metadata": {},
   "source": [
    "#### Semaphore/BoundedSeamphore\n",
    "\n",
    "|特性|`Semaphore`|`BoundedSemaphore`|\n",
    "|---|---|---|\n",
    "|**最大信号量数**|可以随意增加释放次数，不会抛出异常|不允许释放次数超过初始化的信号量数|\n",
    "|**`release()` 的限制**|没有限制，可以超过初始计数|`release()` 次数要与 `acquire()` 一致|\n",
    "|**适用场景**|适合对释放次数没有严格要求的情况|适合需要严格控制释放次数的场景，如防止程序中释放信号量过多导致的问题|"
   ]
  },
  {
   "cell_type": "markdown",
   "id": "8558a8a2",
   "metadata": {},
   "source": [
    "#### Timer"
   ]
  },
  {
   "cell_type": "code",
   "execution_count": 1,
   "id": "fef73062",
   "metadata": {},
   "outputs": [
    {
     "name": "stdout",
     "output_type": "stream",
     "text": [
      "Waiting for Alice...\n",
      "Waiting for Alice...\n",
      "['Alice']\n"
     ]
    }
   ],
   "source": [
    "import time\n",
    "import threading\n",
    "\n",
    "\n",
    "def do_something(name: any, queue: list):\n",
    "    queue.append(name)\n",
    "\n",
    "\n",
    "pool = list()\n",
    "timer = threading.Timer(2, do_something, args=(\"Alice\", pool))\n",
    "timer.start()\n",
    "\n",
    "while not pool:\n",
    "    print(\"Waiting for Alice...\")\n",
    "    time.sleep(1)\n",
    "else:\n",
    "    print(pool)"
   ]
  },
  {
   "cell_type": "markdown",
   "id": "964f79de",
   "metadata": {},
   "source": [
    "#### communication tools\n",
    "\n",
    "---"
   ]
  },
  {
   "cell_type": "markdown",
   "id": "8dcfdd19",
   "metadata": {},
   "source": [
    "#### Queue\n",
    "\n",
    "- `queue.Queue` 普通的 FIFO 队列\n",
    "- `queue.LifoQueue` LIFO 队列（后进先出）\n",
    "- `queue.PriorityQueue` 带优先级的队列"
   ]
  },
  {
   "cell_type": "code",
   "execution_count": 16,
   "id": "4116c93e",
   "metadata": {},
   "outputs": [
    {
     "name": "stdout",
     "output_type": "stream",
     "text": [
      "生产者生产了数据: 0\n",
      "消费者消费了数据: 0\n",
      "生产者生产了数据: 1\n",
      "消费者消费了数据: 1\n",
      "生产者生产了数据: 2\n",
      "消费者消费了数据: 2\n",
      "生产者生产了数据: 3\n",
      "消费者消费了数据: 3\n",
      "生产者生产了数据: 4\n",
      "消费者消费了数据: 4\n",
      "所有线程结束\n"
     ]
    }
   ],
   "source": [
    "import threading\n",
    "import queue\n",
    "import time\n",
    "\n",
    "\n",
    "def produce(production: queue.LifoQueue):\n",
    "    for goods in range(5):\n",
    "        time.sleep(1)\n",
    "        print(f\"生产者生产了数据: {goods}\")\n",
    "        production.put(goods)\n",
    "\n",
    "\n",
    "def consume(production: queue.Queue):\n",
    "    while True:\n",
    "        item = production.get()\n",
    "        if item is None:\n",
    "            break\n",
    "        print(f\"消费者消费了数据: {item}\")\n",
    "        production.task_done()\n",
    "\n",
    "\n",
    "production = queue.LifoQueue()\n",
    "producer_thread = threading.Thread(target=produce, args=(production,))\n",
    "producer_thread.start()\n",
    "consumer_thread = threading.Thread(target=consume, args=(production,))\n",
    "consumer_thread.start()\n",
    "producer_thread.join()\n",
    "production.put(None)\n",
    "consumer_thread.join()\n",
    "print(\"所有线程结束\")"
   ]
  },
  {
   "cell_type": "markdown",
   "id": "676a02e8",
   "metadata": {},
   "source": [
    "#### threading.local"
   ]
  },
  {
   "cell_type": "code",
   "execution_count": 6,
   "id": "e642fe2c",
   "metadata": {},
   "outputs": [
    {
     "name": "stdout",
     "output_type": "stream",
     "text": [
      "线程 1 的局部数据: 1线程 3 的局部数据: 3\n",
      "线程 4 的局部数据: 4\n",
      "\n",
      "线程 0 的局部数据: 0线程 2 的局部数据: 2\n",
      "\n",
      "所有线程结束\n"
     ]
    }
   ],
   "source": [
    "import threading\n",
    "import time\n",
    "import random\n",
    "\n",
    "# 创建一个线程局部存储\n",
    "local_data = threading.local()\n",
    "\n",
    "\n",
    "def thread_task(thread_id):\n",
    "    # 每个线程有自己的局部数据\n",
    "    local_data.value = thread_id\n",
    "    time.sleep(random.randrange(1, 3))\n",
    "    print(f\"线程 {thread_id} 的局部数据: {local_data.value}\")\n",
    "\n",
    "\n",
    "# 创建多个线程并启动\n",
    "threads = []\n",
    "for i in range(5):\n",
    "    t = threading.Thread(target=thread_task, args=(i,))\n",
    "    threads.append(t)\n",
    "    t.start()\n",
    "\n",
    "# 等待所有线程结束\n",
    "for t in threads:\n",
    "    t.join()\n",
    "\n",
    "print(\"所有线程结束\")"
   ]
  },
  {
   "cell_type": "markdown",
   "id": "941ae65f",
   "metadata": {},
   "source": [
    "#### multiprocessing\n",
    "\n",
    "---"
   ]
  },
  {
   "cell_type": "markdown",
   "id": "5314cf4c",
   "metadata": {},
   "source": [
    "#### Pipe"
   ]
  },
  {
   "cell_type": "code",
   "execution_count": null,
   "id": "35fbb00e",
   "metadata": {},
   "outputs": [],
   "source": []
  },
  {
   "cell_type": "markdown",
   "id": "586dcea9",
   "metadata": {},
   "source": [
    "#### Manager"
   ]
  },
  {
   "cell_type": "code",
   "execution_count": null,
   "id": "6c9e74f1",
   "metadata": {},
   "outputs": [],
   "source": []
  },
  {
   "cell_type": "markdown",
   "id": "a8f5969e",
   "metadata": {},
   "source": [
    "#### Queue"
   ]
  },
  {
   "cell_type": "code",
   "execution_count": null,
   "id": "5ac8eb9e",
   "metadata": {},
   "outputs": [],
   "source": [
    "from multiprocessing import Queue"
   ]
  },
  {
   "cell_type": "markdown",
   "id": "c49f325d",
   "metadata": {},
   "source": [
    "#### Pool"
   ]
  },
  {
   "cell_type": "code",
   "execution_count": null,
   "id": "4afc4f8e",
   "metadata": {},
   "outputs": [],
   "source": []
  },
  {
   "cell_type": "markdown",
   "id": "46c40be7",
   "metadata": {},
   "source": [
    "#### Value/Array"
   ]
  },
  {
   "cell_type": "code",
   "execution_count": null,
   "id": "2e8d18ee",
   "metadata": {},
   "outputs": [],
   "source": []
  },
  {
   "cell_type": "markdown",
   "id": "4707ee0c",
   "metadata": {},
   "source": [
    "#### concurrent.futures\n",
    "\n",
    "---"
   ]
  },
  {
   "cell_type": "markdown",
   "id": "27bd5a4e",
   "metadata": {},
   "source": [
    "#### ThreadPoolExecutor"
   ]
  },
  {
   "cell_type": "code",
   "execution_count": null,
   "id": "e392128e",
   "metadata": {},
   "outputs": [],
   "source": []
  },
  {
   "cell_type": "markdown",
   "id": "66a9d1f5",
   "metadata": {},
   "source": [
    "#### ProcessPoolExecutor"
   ]
  },
  {
   "cell_type": "code",
   "execution_count": null,
   "id": "fa52c8c6",
   "metadata": {},
   "outputs": [],
   "source": []
  },
  {
   "cell_type": "markdown",
   "id": "f928358a",
   "metadata": {},
   "source": [
    "#### async\n",
    "\n",
    "---"
   ]
  },
  {
   "cell_type": "markdown",
   "id": "18d60108",
   "metadata": {},
   "source": [
    "#### async/wait"
   ]
  },
  {
   "cell_type": "code",
   "execution_count": null,
   "id": "441a3025",
   "metadata": {},
   "outputs": [],
   "source": []
  },
  {
   "cell_type": "markdown",
   "id": "d8644af7",
   "metadata": {},
   "source": [
    "#### Event loop"
   ]
  },
  {
   "cell_type": "code",
   "execution_count": null,
   "id": "0d28dd1b",
   "metadata": {},
   "outputs": [],
   "source": []
  },
  {
   "cell_type": "markdown",
   "id": "267697ed",
   "metadata": {},
   "source": [
    "#### Queue"
   ]
  },
  {
   "cell_type": "code",
   "execution_count": null,
   "id": "79b29d33",
   "metadata": {},
   "outputs": [],
   "source": [
    "from asyncio import Queue"
   ]
  },
  {
   "cell_type": "markdown",
   "id": "49583554",
   "metadata": {},
   "source": [
    "#### gevent\n",
    "\n",
    "---"
   ]
  },
  {
   "cell_type": "markdown",
   "id": "290b2789",
   "metadata": {},
   "source": [
    "#### Celery\n",
    "\n",
    "---"
   ]
  },
  {
   "cell_type": "markdown",
   "id": "eeecfaee",
   "metadata": {},
   "source": [
    "#### Ray\n",
    "\n",
    "---"
   ]
  }
 ],
 "metadata": {
  "kernelspec": {
   "display_name": "Python 3",
   "language": "python",
   "name": "python3"
  },
  "language_info": {
   "codemirror_mode": {
    "name": "ipython",
    "version": 3
   },
   "file_extension": ".py",
   "mimetype": "text/x-python",
   "name": "python",
   "nbconvert_exporter": "python",
   "pygments_lexer": "ipython3",
   "version": "3.9.6"
  }
 },
 "nbformat": 4,
 "nbformat_minor": 5
}

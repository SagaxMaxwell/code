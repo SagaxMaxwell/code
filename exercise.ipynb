{
 "cells": [
  {
   "cell_type": "markdown",
   "metadata": {},
   "source": [
    "#### LeetCode"
   ]
  },
  {
   "cell_type": "markdown",
   "metadata": {},
   "source": [
    "##### 打印二叉树左侧的所有节点"
   ]
  },
  {
   "cell_type": "code",
   "execution_count": 1,
   "metadata": {},
   "outputs": [],
   "source": [
    "class TreeNode:\n",
    "    def __init__(self, val, left=None, right=None):\n",
    "        self.val   = val\n",
    "        self.left  = left\n",
    "        self.right = right"
   ]
  },
  {
   "cell_type": "code",
   "execution_count": 2,
   "metadata": {},
   "outputs": [],
   "source": [
    "root                              = TreeNode(1)\n",
    "root.left                         = TreeNode(2)\n",
    "root.right                        = TreeNode(3)\n",
    "root.left.left                    = TreeNode(4)\n",
    "root.left.right                   = TreeNode(5)\n",
    "root.right.left                   = TreeNode(6)\n",
    "root.right.right                  = TreeNode(7)\n",
    "root.right.right.right            = TreeNode(8)\n",
    "root.right.right.right.left       = TreeNode(9)\n",
    "root.right.right.right.left.left  = TreeNode(10)\n",
    "root.right.right.right.left.right = TreeNode(11)"
   ]
  },
  {
   "cell_type": "code",
   "execution_count": 3,
   "metadata": {},
   "outputs": [],
   "source": [
    "def select_node(node):\n",
    "    result_list    = [node]\n",
    "    node_list      = [node]\n",
    "    next_node_list = []\n",
    "    \n",
    "    while node_list:\n",
    "        current_node = node_list.pop(0)\n",
    "        if current_node.left:\n",
    "            next_node_list.append(current_node.left)\n",
    "        if current_node.right:\n",
    "            next_node_list.append(current_node.right)\n",
    "        if not node_list and next_node_list:\n",
    "            node_list, next_node_list = next_node_list, node_list\n",
    "            result_list.append(node_list[0])\n",
    "    \n",
    "    return result_list"
   ]
  },
  {
   "cell_type": "code",
   "execution_count": 4,
   "metadata": {},
   "outputs": [
    {
     "data": {
      "text/plain": [
       "[1, 2, 4, 8, 9, 10]"
      ]
     },
     "execution_count": 4,
     "metadata": {},
     "output_type": "execute_result"
    }
   ],
   "source": [
    "[node.val for node in select_node(root)]"
   ]
  },
  {
   "cell_type": "markdown",
   "metadata": {},
   "source": [
    "##### 删除有序数组中的重复项\n",
    "\n",
    "- 给你一个非严格递增排列的数组 nums，请你原地删除重复出现的元素，使每个元素只出现一次，返回删除后数组的新长度\n",
    "- 元素的相对顺序应该保持一致，然后返回 nums 中唯一元素的个数"
   ]
  },
  {
   "cell_type": "code",
   "execution_count": 5,
   "metadata": {},
   "outputs": [],
   "source": [
    "def remove_duplicates(nums_list):\n",
    "    slow = 0\n",
    "    fast = 1\n",
    "    \n",
    "    while fast != len(nums_list):\n",
    "        if nums_list[fast] != nums_list[slow]:\n",
    "            slow += 1\n",
    "            nums_list[slow], nums_list[fast] = nums_list[fast], nums_list[slow]\n",
    "        fast += 1\n",
    "    \n",
    "    return nums_list"
   ]
  },
  {
   "cell_type": "code",
   "execution_count": 6,
   "metadata": {},
   "outputs": [
    {
     "data": {
      "text/plain": [
       "[0, 1, 3, 5, 6, 8, 9, 10, 11, 9, 9, 0, 3, 11]"
      ]
     },
     "execution_count": 6,
     "metadata": {},
     "output_type": "execute_result"
    }
   ],
   "source": [
    "remove_duplicates([0, 0,1,3,3,5,6,8,9,9,9,10,11,11])"
   ]
  },
  {
   "cell_type": "markdown",
   "metadata": {},
   "source": [
    "##### 删除有序数组中的重复项 II\n",
    "\n",
    "- 给你一个有序数组 nums，请你原地删除重复出现的元素，使得出现次数超过两次的元素只出现两次，返回删除后数组的新长度\n",
    "- 不要使用额外的数组空间，你必须在原地修改输入数组并在使用 `O(1)` 额外空间的条件下完成"
   ]
  },
  {
   "cell_type": "code",
   "execution_count": 7,
   "metadata": {},
   "outputs": [],
   "source": [
    "def remove_duplicates(nums_list):\n",
    "    slow   = 0\n",
    "    fast   = 1\n",
    "    repeat = 1\n",
    "    \n",
    "    while fast < len(nums_list):\n",
    "        if nums_list[fast] != nums_list[slow]:\n",
    "            slow   += 1\n",
    "            repeat  = 1\n",
    "            nums_list[slow], nums_list[fast] = nums_list[fast], nums_list[slow]\n",
    "        elif repeat < 2:\n",
    "            slow   += 1\n",
    "            repeat += 1\n",
    "            nums_list[slow], nums_list[fast] = nums_list[fast], nums_list[slow]\n",
    "        fast += 1\n",
    "    \n",
    "    return nums_list"
   ]
  },
  {
   "cell_type": "code",
   "execution_count": 8,
   "metadata": {},
   "outputs": [
    {
     "data": {
      "text/plain": [
       "[0, 0, 1, 3, 3, 5, 9, 9, 10, 11, 11, 0, 0, 3]"
      ]
     },
     "execution_count": 8,
     "metadata": {},
     "output_type": "execute_result"
    }
   ],
   "source": [
    "remove_duplicates([0, 0, 0, 0, 1, 3, 3, 3, 5, 9, 9, 10, 11, 11])"
   ]
  },
  {
   "cell_type": "markdown",
   "metadata": {},
   "source": [
    "##### 轮转数组\n",
    "\n",
    "- 给定一个整数数组 nums，将数组中的元素向右轮转 `k` 个位置，其中 `k` 是非负数\n",
    "- 原地解决"
   ]
  },
  {
   "cell_type": "code",
   "execution_count": 9,
   "metadata": {},
   "outputs": [],
   "source": [
    "def rotate(nums, k):\n",
    "    if k := (k % len(nums)):\n",
    "        nums[:k], nums[k:] = nums[-k:], nums[:-k]\n",
    "    return nums"
   ]
  },
  {
   "cell_type": "code",
   "execution_count": 10,
   "metadata": {},
   "outputs": [
    {
     "data": {
      "text/plain": [
       "[5, 6, 7, 1, 2, 3, 4]"
      ]
     },
     "execution_count": 10,
     "metadata": {},
     "output_type": "execute_result"
    }
   ],
   "source": [
    "rotate([1,2,3,4,5,6,7], 3)"
   ]
  },
  {
   "cell_type": "markdown",
   "metadata": {},
   "source": [
    "##### 回文数"
   ]
  },
  {
   "cell_type": "code",
   "execution_count": 11,
   "metadata": {},
   "outputs": [],
   "source": [
    "def is_palindrome(s: str) -> bool:\n",
    "    s = ''.join([c.lower() for c in s if c.isalnum()])\n",
    "    return s[:len(s)//2] == s[:-(len(s)//2)-1:-1]"
   ]
  },
  {
   "cell_type": "code",
   "execution_count": 12,
   "metadata": {},
   "outputs": [
    {
     "data": {
      "text/plain": [
       "True"
      ]
     },
     "execution_count": 12,
     "metadata": {},
     "output_type": "execute_result"
    }
   ],
   "source": [
    "is_palindrome('\"A man, a plan, a canal: Panama\"')"
   ]
  },
  {
   "cell_type": "markdown",
   "metadata": {},
   "source": [
    "##### 买卖股票最佳时机\n",
    "\n",
    "- 给定一个数组 `prices`，它的第 `i` 个元素 `prices[i]` 表示一支给定股票第 `i` 天的价格\n",
    "- 你只能选择某一天买入这只股票，并选择在未来的某一个不同的日子卖出该股票，设计一个算法来计算你所能获取的最大利润\n",
    "- 返回你可以从这笔交易中获取的最大利润，如果你不能获取任何利润，返回 `0`"
   ]
  },
  {
   "cell_type": "code",
   "execution_count": 13,
   "metadata": {},
   "outputs": [],
   "source": [
    "from typing import List\n",
    "\n",
    "def max_profit(prices: List[int]) -> float:\n",
    "    minprice = float('inf')\n",
    "    maxprofit = 0\n",
    "    for price in prices:\n",
    "        minprice = min(minprice, price)\n",
    "        maxprofit = max(maxprofit, price - minprice)\n",
    "    return maxprofit"
   ]
  },
  {
   "cell_type": "code",
   "execution_count": 14,
   "metadata": {},
   "outputs": [
    {
     "data": {
      "text/plain": [
       "5"
      ]
     },
     "execution_count": 14,
     "metadata": {},
     "output_type": "execute_result"
    }
   ],
   "source": [
    "max_profit([7,1,5,3,6,4])"
   ]
  },
  {
   "cell_type": "markdown",
   "metadata": {},
   "source": [
    "##### 买卖股票的最佳时机 II\n",
    "\n",
    "- 给你一个整数数组 `prices`，其中 `prices[i]` 表示某支股票第 `i` 天的价格。\n",
    "- 在每一天，你可以决定是否购买或出售股票，你在任何时候最多只能持有一股股票，你也可以先购买，然后在同一天出售\n",
    "- 返回你能获得的最大利润"
   ]
  },
  {
   "cell_type": "code",
   "execution_count": 15,
   "metadata": {},
   "outputs": [],
   "source": [
    "from typing import List\n",
    "\n",
    "def max_profit(prices: List[int]) -> int:\n",
    "    profit = 0\n",
    "    for i in range(1, len(prices)):\n",
    "        tmp = prices[i] - prices[i - 1]\n",
    "        if tmp > 0:\n",
    "            profit += tmp\n",
    "    return profit"
   ]
  },
  {
   "cell_type": "code",
   "execution_count": 16,
   "metadata": {},
   "outputs": [
    {
     "data": {
      "text/plain": [
       "7"
      ]
     },
     "execution_count": 16,
     "metadata": {},
     "output_type": "execute_result"
    }
   ],
   "source": [
    "max_profit([7,1,5,3,6,4])"
   ]
  },
  {
   "cell_type": "markdown",
   "metadata": {},
   "source": [
    "##### 跳跃游戏\n",
    "\n",
    "- 给你一个非负整数数组 `nums`，你最初位于数组的第一个下标，数组中的每个元素代表你在该位置可以跳跃的最大长度\n",
    "- 判断你是否能够到达最后一个下标，如果可以，返回 `True` 否则，返回 `False`"
   ]
  },
  {
   "cell_type": "code",
   "execution_count": 17,
   "metadata": {},
   "outputs": [],
   "source": [
    "def can_jump(nums: List[int]) -> bool:\n",
    "    max_jump = 0\n",
    "    for index, value in enumerate(nums):\n",
    "        if max_jump >= index and index+value > max_jump:\n",
    "            max_jump = index + max_jump\n",
    "            \n",
    "    return max_jump >= len(nums)"
   ]
  },
  {
   "cell_type": "code",
   "execution_count": 18,
   "metadata": {},
   "outputs": [
    {
     "data": {
      "text/plain": [
       "False"
      ]
     },
     "execution_count": 18,
     "metadata": {},
     "output_type": "execute_result"
    }
   ],
   "source": [
    "can_jump([2,3,1,1,4])"
   ]
  },
  {
   "cell_type": "markdown",
   "metadata": {},
   "source": [
    "##### 判断子序列"
   ]
  },
  {
   "cell_type": "code",
   "execution_count": 19,
   "metadata": {},
   "outputs": [],
   "source": [
    "def is_subsequence(s: str, t: str) -> bool:\n",
    "    s_pointer = 0\n",
    "    t_pointer = 0\n",
    "    s_len = len(s)\n",
    "    t_len = len(t)\n",
    "\n",
    "    while s_pointer < s_len and t_pointer < t_len:\n",
    "        if t[t_pointer] == s[s_pointer]:\n",
    "            s_pointer += 1\n",
    "        t_pointer += 1        \n",
    "    \n",
    "    return s_pointer == s_len"
   ]
  },
  {
   "cell_type": "code",
   "execution_count": 20,
   "metadata": {},
   "outputs": [
    {
     "data": {
      "text/plain": [
       "True"
      ]
     },
     "execution_count": 20,
     "metadata": {},
     "output_type": "execute_result"
    }
   ],
   "source": [
    "is_subsequence('FEF', 'my name is mxh. i like Fucking and Eating, sure like Fighting')"
   ]
  },
  {
   "cell_type": "markdown",
   "metadata": {},
   "source": [
    "##### 两数之和 II - 输入有序数组\n",
    "\n",
    "- 给你一个下标从 `1` 开始的整数数组 `numbers`，该数组已按非递减顺序排列，请你从数组中找出满足相加之和等于目标数 `target` 的两个数，如果设这两个数分别是 `numbers[index1]` 和 `numbers[index2]` ，则 `1 <= index1 < index2 <= numbers.length`\n",
    "- 以长度为 `2` 的整数数组 `[index1, index2]` 的形式返回这两个整数的下标 `index1` 和 `index2`\n",
    "- 你可以假设每个输入只对应唯一的答案，而且你不可以重复使用相同的元素\n",
    "- 你所设计的解决方案必须只使用常量级的额外空间"
   ]
  },
  {
   "cell_type": "code",
   "execution_count": 21,
   "metadata": {},
   "outputs": [],
   "source": [
    "# 双向指针比同向指针快\n",
    "def two_sum(numbers: List[int], target: int) -> List[int]:\n",
    "    slow     = 0\n",
    "    fast     = -1\n",
    "    nums_len = len(numbers)\n",
    "\n",
    "    while slow != nums_len - 1:\n",
    "        sum_result = numbers[slow] + numbers[fast]\n",
    "        if sum_result == target:\n",
    "            break\n",
    "        if sum_result < target:\n",
    "            slow = slow + 1\n",
    "            fast = 0\n",
    "        fast -= 1\n",
    "        \n",
    "    return [slow+1, nums_len + fast + 1]"
   ]
  },
  {
   "cell_type": "code",
   "execution_count": 22,
   "metadata": {},
   "outputs": [
    {
     "data": {
      "text/plain": [
       "[1, 2]"
      ]
     },
     "execution_count": 22,
     "metadata": {},
     "output_type": "execute_result"
    }
   ],
   "source": [
    "two_sum([2,7,11,15], 9)"
   ]
  },
  {
   "cell_type": "markdown",
   "metadata": {},
   "source": [
    "##### 盛最多水的容器"
   ]
  },
  {
   "cell_type": "code",
   "execution_count": 23,
   "metadata": {},
   "outputs": [],
   "source": [
    "# 双向指针\n",
    "def max_area(heights):\n",
    "    area  = 0\n",
    "    left  = 0\n",
    "    right = len(heights) - 1\n",
    "\n",
    "    while left < right:\n",
    "        new_area  = min(heights[left], heights[right]) * (right - left)\n",
    "        area      = max(new_area, area)\n",
    "        if heights[left] <= heights[right]:\n",
    "            left += 1\n",
    "        else:\n",
    "            right -= 1\n",
    "\n",
    "    return area"
   ]
  },
  {
   "cell_type": "code",
   "execution_count": 24,
   "metadata": {},
   "outputs": [
    {
     "data": {
      "text/plain": [
       "49"
      ]
     },
     "execution_count": 24,
     "metadata": {},
     "output_type": "execute_result"
    }
   ],
   "source": [
    "max_area([1, 8, 6, 2, 5, 4, 8, 3, 7])"
   ]
  },
  {
   "cell_type": "markdown",
   "metadata": {},
   "source": [
    "##### pow\n",
    "\n",
    "- 实现 pow(x, n) ，即计算 x 的整数 n 次幂函数（即，xn ）。"
   ]
  },
  {
   "cell_type": "code",
   "execution_count": 25,
   "metadata": {},
   "outputs": [],
   "source": [
    "# 栈溢出\n",
    "def my_pow(x, n):\n",
    "    if n == 0:\n",
    "        return 1\n",
    "    elif n > 0:\n",
    "        return x * my_pow(x, n - 1)\n",
    "    return 1 / my_pow(x, -n)\n",
    "\n",
    "# 时间限制\n",
    "def my_pow2(x, n):\n",
    "    result = 1\n",
    "    n_copy = abs(n)\n",
    "    while n_copy:\n",
    "        result *= x\n",
    "        n_copy -= 1\n",
    "    \n",
    "    return result if n >= 0 else 1 / result"
   ]
  },
  {
   "cell_type": "code",
   "execution_count": 26,
   "metadata": {},
   "outputs": [
    {
     "data": {
      "text/plain": [
       "0.000125"
      ]
     },
     "execution_count": 26,
     "metadata": {},
     "output_type": "execute_result"
    }
   ],
   "source": [
    "my_pow(20, -3)"
   ]
  },
  {
   "cell_type": "markdown",
   "metadata": {},
   "source": [
    "#### HuaWei OD"
   ]
  },
  {
   "cell_type": "markdown",
   "metadata": {},
   "source": [
    "##### 左侧乘积等于右侧乘积"
   ]
  },
  {
   "cell_type": "code",
   "execution_count": 27,
   "metadata": {},
   "outputs": [
    {
     "data": {
      "text/plain": [
       "3"
      ]
     },
     "execution_count": 27,
     "metadata": {},
     "output_type": "execute_result"
    }
   ],
   "source": [
    "from functools import reduce\n",
    "\n",
    "def find_center_index(nums):\n",
    "    index = 0\n",
    "    left_product = 1\n",
    "    right_product = reduce(lambda pre, next: pre * next, nums)\n",
    "\n",
    "    while index < len(nums):\n",
    "        right_product /= nums[index]\n",
    "        if index > 0:\n",
    "            left_product *= nums[index-1]\n",
    "        if left_product == right_product:\n",
    "            return index\n",
    "        \n",
    "        index+=1\n",
    "\n",
    "    return index\n",
    "\n",
    "\n",
    "find_center_index([2,5,3,6,5,6])"
   ]
  },
  {
   "cell_type": "markdown",
   "metadata": {},
   "source": [
    "##### 求出数组内有多少个连续区间之和大于等于 `X`"
   ]
  },
  {
   "cell_type": "code",
   "execution_count": 28,
   "metadata": {},
   "outputs": [
    {
     "data": {
      "text/plain": [
       "13"
      ]
     },
     "execution_count": 28,
     "metadata": {},
     "output_type": "execute_result"
    }
   ],
   "source": [
    "def count_subarray(nums, x):\n",
    "    count = 0\n",
    "    slow = 0\n",
    "    fast = 0\n",
    "    nums_len = len(nums)\n",
    "\n",
    "    while slow < nums_len:\n",
    "        if sum(nums[slow:(fast+1)]) >= x:\n",
    "            count += nums_len - fast\n",
    "            slow += 1\n",
    "            fast = slow\n",
    "        elif fast + 1 < nums_len:\n",
    "            fast += 1\n",
    "        else:\n",
    "            slow += 1\n",
    "\n",
    "    return count\n",
    "\n",
    "\n",
    "count_subarray([1,2,3,4,5], 3)"
   ]
  },
  {
   "cell_type": "markdown",
   "metadata": {},
   "source": [
    "##### 最少停车数量"
   ]
  },
  {
   "cell_type": "code",
   "execution_count": 29,
   "metadata": {},
   "outputs": [
    {
     "data": {
      "text/plain": [
       "5"
      ]
     },
     "execution_count": 29,
     "metadata": {},
     "output_type": "execute_result"
    }
   ],
   "source": [
    "def min_cars(cars):\n",
    "    count = 0\n",
    "    window = 0\n",
    "    \n",
    "    for index in range(0, len(cars)):\n",
    "        if cars[index] == 1:\n",
    "            window += 1\n",
    "\n",
    "        if  window == 3 or ((index == len(cars) - 1 or cars[index] == 0) and window > 0):\n",
    "            count += 1\n",
    "            window = 0\n",
    "        \n",
    "    return count\n",
    "\n",
    "min_cars([1,1,1,1,1,0,1,0,1,1,1,1])"
   ]
  },
  {
   "cell_type": "markdown",
   "metadata": {},
   "source": [
    "##### 身高排序"
   ]
  },
  {
   "cell_type": "code",
   "execution_count": 30,
   "metadata": {},
   "outputs": [
    {
     "data": {
      "text/plain": [
       "[99, 101, 98, 102, 97, 103, 96, 104, 95, 105]"
      ]
     },
     "execution_count": 30,
     "metadata": {},
     "output_type": "execute_result"
    }
   ],
   "source": [
    "def sort(height, heights):\n",
    "    heights = sorted(heights, key = lambda x: abs(x - height), reverse=False)\n",
    "    return heights\n",
    "\n",
    "\n",
    "sort(100, [95,96,97,98,99,101,102,103,104,105])"
   ]
  },
  {
   "cell_type": "markdown",
   "metadata": {},
   "source": [
    "##### 按最低位排序"
   ]
  },
  {
   "cell_type": "code",
   "execution_count": 31,
   "metadata": {},
   "outputs": [
    {
     "data": {
      "text/plain": [
       "[1, -21, 11, -101, 2, 22, 42, 32, 5, 55, 7, 8]"
      ]
     },
     "execution_count": 31,
     "metadata": {},
     "output_type": "execute_result"
    }
   ],
   "source": [
    "def sort(nums):\n",
    "    return sorted(nums, key=lambda num:abs(num)%10, reverse=False)\n",
    "\n",
    "\n",
    "sort([1,2,5,-21,22,11,55,-101,42,8,7,32])"
   ]
  },
  {
   "cell_type": "markdown",
   "metadata": {},
   "source": [
    "##### 按身高体重排序"
   ]
  },
  {
   "cell_type": "code",
   "execution_count": 32,
   "metadata": {},
   "outputs": [
    {
     "data": {
      "text/plain": [
       "dict_keys([2, 1, 3, 4])"
      ]
     },
     "execution_count": 32,
     "metadata": {},
     "output_type": "execute_result"
    }
   ],
   "source": [
    "def sort(heights, weights):\n",
    "    messages = dict(enumerate(zip(heights, weights), start=1))\n",
    "    messages = dict(sorted(messages.items(), key=lambda x:(x[1][0], x[1][1]), reverse=False))\n",
    "    \n",
    "    return messages.keys()\n",
    "\n",
    "\n",
    "sort([100, 100, 120, 130], [40, 30, 60, 50])"
   ]
  },
  {
   "cell_type": "markdown",
   "metadata": {},
   "source": [
    "##### 跳 `4`"
   ]
  },
  {
   "cell_type": "code",
   "execution_count": 33,
   "metadata": {},
   "outputs": [
    {
     "name": "stdout",
     "output_type": "stream",
     "text": [
      "121\n"
     ]
    }
   ],
   "source": [
    "def actual_fare(num):\n",
    "    result = 0\n",
    "    base = 1\n",
    "\n",
    "    while num > 0:\n",
    "        current_bit = num % 10\n",
    "        \n",
    "        if current_bit >= 4:\n",
    "            current_bit -= 1\n",
    "        \n",
    "        result += current_bit * base\n",
    "        base *= 9\n",
    "        num //= 10\n",
    "    \n",
    "    return result\n",
    "\n",
    "\n",
    "print(actual_fare(155))"
   ]
  },
  {
   "cell_type": "markdown",
   "metadata": {},
   "source": [
    "##### 因数分解"
   ]
  },
  {
   "cell_type": "code",
   "execution_count": 34,
   "metadata": {},
   "outputs": [
    {
     "data": {
      "text/plain": [
       "(3, 5)"
      ]
     },
     "execution_count": 34,
     "metadata": {},
     "output_type": "execute_result"
    }
   ],
   "source": [
    "import math\n",
    "\n",
    "\n",
    "def is_prime(num):\n",
    "    if num <= 1:\n",
    "        return False\n",
    "    \n",
    "    for index in range(2, int(math.sqrt(num)) + 1):\n",
    "        if num % index == 0:\n",
    "            return False\n",
    "    \n",
    "    return True\n",
    "\n",
    "\n",
    "def find_two_prime(num):\n",
    "    for index in range(2, int(math.sqrt(num)) + 1):\n",
    "        if is_prime(index) and is_prime(num // index) and num % index == 0:\n",
    "            return (index, num // index)\n",
    "\n",
    "    return (-1, -1)\n",
    "\n",
    "\n",
    "find_two_prime(15)"
   ]
  },
  {
   "cell_type": "markdown",
   "metadata": {},
   "source": [
    "##### 最小字符串"
   ]
  },
  {
   "cell_type": "code",
   "execution_count": 35,
   "metadata": {},
   "outputs": [
    {
     "data": {
      "text/plain": [
       "'aadqqqeqfabawadawdqwecd'"
      ]
     },
     "execution_count": 35,
     "metadata": {},
     "output_type": "execute_result"
    }
   ],
   "source": [
    "def min_str(string):\n",
    "    source_list = list(string)\n",
    "    sorted_list = sorted(string)\n",
    "\n",
    "    if source_list == sorted_list:\n",
    "        return string\n",
    "\n",
    "    swap_index = -1\n",
    "    for index in range(len(source_list)):\n",
    "        if source_list[index] != sorted_list[index]:\n",
    "            swap_index = index\n",
    "            break\n",
    "    \n",
    "    for index in range(len(source_list) - 1, swap_index, -1):\n",
    "        if source_list[index] == sorted_list[swap_index]:\n",
    "            source_list[swap_index], source_list[index] = source_list[index], source_list[swap_index]\n",
    "            return \"\".join(source_list)\n",
    "\n",
    "\n",
    "min_str(\"acdqqqeqfabawadawdqwead\")"
   ]
  },
  {
   "cell_type": "markdown",
   "metadata": {},
   "source": [
    "##### 服务器最佳成功率时间段查询"
   ]
  },
  {
   "cell_type": "code",
   "execution_count": 36,
   "metadata": {},
   "outputs": [
    {
     "data": {
      "text/plain": [
       "(0, 6)"
      ]
     },
     "execution_count": 36,
     "metadata": {},
     "output_type": "execute_result"
    }
   ],
   "source": [
    "def best_time(min_avg, nums):\n",
    "    result_slow = 0\n",
    "    result_fast = 0\n",
    "    slow = 0\n",
    "    fast = 0\n",
    "\n",
    "    while slow < len(nums):\n",
    "        if sum(nums[slow:fast+1])/(fast+1-slow) <= min_avg:\n",
    "            if fast+1-slow > result_fast+1-result_slow:\n",
    "                result_slow = slow\n",
    "                result_fast = fast\n",
    "\n",
    "        fast += 1\n",
    "        \n",
    "        if fast >= len(nums):\n",
    "            slow += 1\n",
    "            fast = slow\n",
    "\n",
    "    return (result_slow, result_fast)\n",
    "\n",
    "\n",
    "best_time(4, [1,2,3,2,3,4,2,1212,3123,132,31,23,231,31,312,312,12,32,3223,432,12,4,5,3,4])"
   ]
  },
  {
   "cell_type": "markdown",
   "metadata": {},
   "source": [
    "##### 众数中的中位数"
   ]
  },
  {
   "cell_type": "code",
   "execution_count": 37,
   "metadata": {},
   "outputs": [
    {
     "data": {
      "text/plain": [
       "11.0"
      ]
     },
     "execution_count": 37,
     "metadata": {},
     "output_type": "execute_result"
    }
   ],
   "source": [
    "from collections import Counter\n",
    "\n",
    "\n",
    "def find_mid(nums):\n",
    "    nums_counter = Counter(nums)\n",
    "    max_count = max(nums_counter.values())\n",
    "    new_nums = []\n",
    "\n",
    "    for num, count in nums_counter.items():\n",
    "        if count == max_count:\n",
    "            new_nums.extend(num for _ in range(count))\n",
    "        \n",
    "    new_nums = sorted(new_nums, reverse=False)\n",
    "    \n",
    "    if len(new_nums) % 2 == 1:\n",
    "        return new_nums[len(new_nums) // 2]\n",
    "\n",
    "    return sum(new_nums[len(new_nums) // 2 - 1:len(new_nums) // 2 + 1]) / 2\n",
    "\n",
    "\n",
    "find_mid([10, 11, 21, 19, 21, 17, 21, 16, 21, 18, 15, 1, 1, 1, 1])"
   ]
  },
  {
   "cell_type": "markdown",
   "metadata": {},
   "source": [
    "##### 计算数组中最大与最小 `N` 个数的和（不允许重叠）"
   ]
  },
  {
   "cell_type": "code",
   "execution_count": 38,
   "metadata": {},
   "outputs": [
    {
     "data": {
      "text/plain": [
       "12"
      ]
     },
     "execution_count": 38,
     "metadata": {},
     "output_type": "execute_result"
    }
   ],
   "source": [
    "def define_sum(n, nums):\n",
    "    new_nums = sorted(set(nums), reverse=False)\n",
    "\n",
    "    if 2 * n > len(new_nums):\n",
    "        return -1\n",
    "\n",
    "    return sum(new_nums[0:n] + new_nums[-1:-n-1:-1])\n",
    "\n",
    "\n",
    "define_sum(2, [1,2,3,4,5])"
   ]
  },
  {
   "cell_type": "markdown",
   "metadata": {},
   "source": [
    "##### 英文输入法的单词联想"
   ]
  },
  {
   "cell_type": "code",
   "execution_count": 39,
   "metadata": {},
   "outputs": [
    {
     "data": {
      "text/plain": [
       "['a', 'am']"
      ]
     },
     "execution_count": 39,
     "metadata": {},
     "output_type": "execute_result"
    }
   ],
   "source": [
    "def extract_words(string, word):\n",
    "    words = string.split(\" \")\n",
    "    words = (item for item in words if item.startswith(word))\n",
    "    words = sorted(words, reverse=False)\n",
    "    \n",
    "    return words\n",
    "\n",
    "\n",
    "extract_words(\"i am a coder\", \"a\")"
   ]
  },
  {
   "cell_type": "markdown",
   "metadata": {},
   "source": [
    "##### 连接 URL"
   ]
  },
  {
   "cell_type": "code",
   "execution_count": 40,
   "metadata": {},
   "outputs": [
    {
     "data": {
      "text/plain": [
       "'///qwe/w/wqew'"
      ]
     },
     "execution_count": 40,
     "metadata": {},
     "output_type": "execute_result"
    }
   ],
   "source": [
    "import re\n",
    "\n",
    "\n",
    "def join_url(string):\n",
    "    if \",\" not in string:\n",
    "        return \"/\"\n",
    "    \n",
    "    prefix, suffix = string.split(\",\")\n",
    "    prefix = re.sub(r\"/+$\", \"\", prefix)\n",
    "    suffix = re.sub(r\"^/+\", \"\", suffix)\n",
    "\n",
    "    return prefix + \"/\" + suffix\n",
    "\n",
    "\n",
    "join_url(\"///qwe,///w/wqew\")"
   ]
  },
  {
   "cell_type": "code",
   "execution_count": 41,
   "metadata": {},
   "outputs": [
    {
     "data": {
      "text/plain": [
       "'///qwe/w/wqew'"
      ]
     },
     "execution_count": 41,
     "metadata": {},
     "output_type": "execute_result"
    }
   ],
   "source": [
    "def join_url(string):\n",
    "    prefix, suffix = string.split(\",\")\n",
    "    return prefix.rstrip(\"/\") + \"/\" + suffix.lstrip(\"/\")\n",
    "\n",
    "\n",
    "join_url(\"///qwe,///w/wqew\")"
   ]
  },
  {
   "cell_type": "markdown",
   "metadata": {},
   "source": [
    "##### 字符串序列判定"
   ]
  },
  {
   "cell_type": "code",
   "execution_count": 42,
   "metadata": {},
   "outputs": [
    {
     "data": {
      "text/plain": [
       "15"
      ]
     },
     "execution_count": 42,
     "metadata": {},
     "output_type": "execute_result"
    }
   ],
   "source": [
    "def find_substr(source_str, sub_str):\n",
    "    sub_str_idx = 0\n",
    "    end = 0\n",
    "\n",
    "    for idx, char in enumerate(source_str, start=0):\n",
    "        if char == sub_str[sub_str_idx]:\n",
    "            end = idx\n",
    "            \n",
    "            if sub_str_idx == len(sub_str) - 1:\n",
    "                break\n",
    "            sub_str_idx += 1\n",
    "    \n",
    "    return end\n",
    "\n",
    "\n",
    "find_substr(\"abcdeawdadaxaknalkdeeaa\", \"aceaka\")"
   ]
  },
  {
   "cell_type": "markdown",
   "metadata": {},
   "source": [
    "##### 字符串筛选排序"
   ]
  },
  {
   "cell_type": "code",
   "execution_count": 43,
   "metadata": {},
   "outputs": [
    {
     "data": {
      "text/plain": [
       "(1, 'o')"
      ]
     },
     "execution_count": 43,
     "metadata": {},
     "output_type": "execute_result"
    }
   ],
   "source": [
    "def find_char_pos(string: str, K):\n",
    "    new_str = sorted(enumerate(string, start=0), key=lambda item: item[1], reverse=False)\n",
    "    return new_str[K-1] if K <= len(string) else new_str[-1]\n",
    "\n",
    "\n",
    "find_char_pos(\"CoderEasy\", 6)"
   ]
  },
  {
   "cell_type": "markdown",
   "metadata": {},
   "source": [
    "##### 连续字母长度"
   ]
  },
  {
   "cell_type": "code",
   "execution_count": 44,
   "metadata": {},
   "outputs": [
    {
     "data": {
      "text/plain": [
       "4"
      ]
     },
     "execution_count": 44,
     "metadata": {},
     "output_type": "execute_result"
    }
   ],
   "source": [
    "def longest_substr_len(s, k):\n",
    "    slow = 0\n",
    "    fast = 1\n",
    "    substr_len_set = set()\n",
    "\n",
    "    while True:\n",
    "        if fast > len(s) - 1:\n",
    "            substr_len_set.add(fast-slow)\n",
    "            break\n",
    "        elif s[fast] != s[fast-1]:\n",
    "            substr_len_set.add(fast-slow)\n",
    "            slow = fast\n",
    "            fast = slow + 1\n",
    "        else:\n",
    "            fast += 1\n",
    "\n",
    "    return sorted(substr_len_set, reverse=True)[k-1]\n",
    "\n",
    "\n",
    "longest_substr_len(\"LALALAHAHAMAKABBBBBBACCCKAAAA\", 2)"
   ]
  },
  {
   "cell_type": "markdown",
   "metadata": {},
   "source": [
    "##### 数组去重和排序"
   ]
  },
  {
   "cell_type": "code",
   "execution_count": 45,
   "metadata": {},
   "outputs": [
    {
     "data": {
      "text/plain": [
       "dict_keys([3, 4, 1, 2, 5])"
      ]
     },
     "execution_count": 45,
     "metadata": {},
     "output_type": "execute_result"
    }
   ],
   "source": [
    "from collections import Counter\n",
    "\n",
    "\n",
    "def sort(nums):\n",
    "    counter = dict(sorted(Counter(nums).items(), key=lambda item: item[1], reverse=True))\n",
    "    return counter.keys()\n",
    "\n",
    "\n",
    "sort([1,3,3,3,2,4,4,4,5])"
   ]
  },
  {
   "cell_type": "markdown",
   "metadata": {},
   "source": [
    "##### 攀登者"
   ]
  },
  {
   "cell_type": "code",
   "execution_count": 46,
   "metadata": {},
   "outputs": [
    {
     "data": {
      "text/plain": [
       "3"
      ]
     },
     "execution_count": 46,
     "metadata": {},
     "output_type": "execute_result"
    }
   ],
   "source": [
    "def count_peaks(nums):\n",
    "    count = 0\n",
    "    \n",
    "    for idx in range(1, len(nums) - 1):\n",
    "        if nums[idx-1] < nums[idx] < nums[idx+1]:\n",
    "            count += 1\n",
    "    \n",
    "    return count\n",
    "\n",
    "\n",
    "count_peaks([0,1,4,3,1,0,0,1,2,3,1,2,1,0])"
   ]
  },
  {
   "cell_type": "markdown",
   "metadata": {},
   "source": [
    "##### 最多购买宝石"
   ]
  },
  {
   "cell_type": "code",
   "execution_count": 47,
   "metadata": {},
   "outputs": [
    {
     "data": {
      "text/plain": [
       "8"
      ]
     },
     "execution_count": 47,
     "metadata": {},
     "output_type": "execute_result"
    }
   ],
   "source": [
    "def get_gems(nums, value):\n",
    "    result = 0\n",
    "    left = 0\n",
    "    right = 0\n",
    "\n",
    "    while right <= len(nums):\n",
    "        if sum(nums[left:right]) <= value and right - left > result:\n",
    "            result = right - left\n",
    "        elif sum(nums[left:right]) > value:\n",
    "            left += 1\n",
    "            right = left\n",
    "        right += 1\n",
    "    \n",
    "    return result\n",
    "\n",
    "\n",
    "get_gems([1,1,2,2,1,32,1,1,1,2,2,1,1,1,2,12,23,1], 10)"
   ]
  },
  {
   "cell_type": "markdown",
   "metadata": {},
   "source": [
    "##### 小明的幸运数"
   ]
  },
  {
   "cell_type": "code",
   "execution_count": 48,
   "metadata": {},
   "outputs": [
    {
     "data": {
      "text/plain": [
       "0"
      ]
     },
     "execution_count": 48,
     "metadata": {},
     "output_type": "execute_result"
    }
   ],
   "source": [
    "def get_max_idx(nums, luck_num):\n",
    "    max_idx = 0\n",
    "    cur_idx = 0\n",
    "\n",
    "    for num in nums:\n",
    "        if num == luck_num:\n",
    "            cur_idx += num + 1\n",
    "        else:\n",
    "            cur_idx += num\n",
    "        max_idx = max(max_idx, cur_idx)\n",
    "    \n",
    "    return max_idx\n",
    "\n",
    "\n",
    "get_max_idx([-5,1], 1)"
   ]
  },
  {
   "cell_type": "markdown",
   "metadata": {},
   "source": [
    "##### 算力分配"
   ]
  },
  {
   "cell_type": "code",
   "execution_count": 49,
   "metadata": {},
   "outputs": [
    {
     "data": {
      "text/plain": [
       "(2, 4)"
      ]
     },
     "execution_count": 49,
     "metadata": {},
     "output_type": "execute_result"
    }
   ],
   "source": [
    "def computing_power_allocation(A, B):\n",
    "    A_sum = sum(A)\n",
    "    B_sum = sum(B)\n",
    "    A_B_diff = (A_sum - B_sum) // 2\n",
    "    for val in A:\n",
    "        diff = val - A_B_diff\n",
    "        if diff in B:\n",
    "            return val, diff\n",
    "\n",
    "\n",
    "computing_power_allocation([2,1,4], [6,1,4])"
   ]
  },
  {
   "cell_type": "markdown",
   "metadata": {},
   "source": [
    "##### 剩余银饰重量"
   ]
  },
  {
   "cell_type": "code",
   "execution_count": 50,
   "metadata": {},
   "outputs": [
    {
     "name": "stdout",
     "output_type": "stream",
     "text": [
      "954\n"
     ]
    }
   ],
   "source": [
    "def remaining_weight(nums):\n",
    "    while True:\n",
    "        if 0 < len(nums) < 3:\n",
    "            return max(nums)\n",
    "        elif len(nums) == 0:\n",
    "            return 0\n",
    "        \n",
    "        nums = sorted(nums)\n",
    "        z = nums.pop()\n",
    "        y = nums.pop()\n",
    "        x = nums.pop()\n",
    "\n",
    "        if (z - y) - (y - x) != 0:\n",
    "            nums.append((z - y) - (y - x))\n",
    "\n",
    "\n",
    "nums = [1,2,1313,312,313,1,23]\n",
    "print(remaining_weight(nums[::]))"
   ]
  },
  {
   "cell_type": "markdown",
   "metadata": {},
   "source": [
    "##### 求字符串中所有整数最小和"
   ]
  },
  {
   "cell_type": "code",
   "execution_count": 51,
   "metadata": {},
   "outputs": [
    {
     "data": {
      "text/plain": [
       "-12658"
      ]
     },
     "execution_count": 51,
     "metadata": {},
     "output_type": "execute_result"
    }
   ],
   "source": [
    "import re\n",
    "\n",
    "\n",
    "def find_min_sum(string):\n",
    "    regex = re.compile(r\"-?[0-9]+\")\n",
    "    nums = re.findall(regex, string)\n",
    "    min_sum = 0\n",
    "\n",
    "    for num in nums:\n",
    "        if int(num) <= 0:\n",
    "            min_sum += int(num)\n",
    "        else:\n",
    "            min_sum += sum([int(item) for item in num])\n",
    "    \n",
    "    return min_sum\n",
    "\n",
    "\n",
    "find_min_sum(\"qqqw-11231huiihji120321-1qw1212asadd-1121-321sadq1\")"
   ]
  },
  {
   "cell_type": "markdown",
   "metadata": {},
   "source": [
    "##### 找位置"
   ]
  },
  {
   "cell_type": "code",
   "execution_count": 52,
   "metadata": {},
   "outputs": [
    {
     "data": {
      "text/plain": [
       "6"
      ]
     },
     "execution_count": 52,
     "metadata": {},
     "output_type": "execute_result"
    }
   ],
   "source": [
    "def find_mid(num, nums):\n",
    "    left, right = 0, len(nums) - 1\n",
    "\n",
    "    while left <= right:\n",
    "        mid = left + (right - left) // 2\n",
    "        if num == nums[mid]:\n",
    "            return mid + 1\n",
    "        elif num < nums[mid]:\n",
    "            right = mid - 1\n",
    "        elif num > nums[mid]:\n",
    "            left = mid + 1\n",
    "\n",
    "    return left + 1\n",
    "\n",
    "\n",
    "find_mid(110, [10,20,90,90,100])"
   ]
  },
  {
   "cell_type": "markdown",
   "metadata": {},
   "source": [
    "##### 分割均衡字符串"
   ]
  },
  {
   "cell_type": "code",
   "execution_count": 53,
   "metadata": {},
   "outputs": [
    {
     "data": {
      "text/plain": [
       "2"
      ]
     },
     "execution_count": 53,
     "metadata": {},
     "output_type": "execute_result"
    }
   ],
   "source": [
    "def substr_count(string):\n",
    "    x_count = 0\n",
    "    y_count = 0\n",
    "    result = 0\n",
    "\n",
    "    for char in string:\n",
    "        if char.lower() == \"x\":\n",
    "            x_count += 1\n",
    "        elif char.lower() == \"y\":\n",
    "            y_count += 1\n",
    "        \n",
    "        if x_count == y_count:\n",
    "            x_count = 0\n",
    "            y_count = 0\n",
    "            result += 1\n",
    "    \n",
    "    return result\n",
    "\n",
    "\n",
    "substr_count(\"XXYYXY\")"
   ]
  },
  {
   "cell_type": "markdown",
   "metadata": {},
   "source": [
    "##### 游戏分组"
   ]
  },
  {
   "cell_type": "code",
   "execution_count": 54,
   "metadata": {},
   "outputs": [
    {
     "data": {
      "text/plain": [
       "1"
      ]
     },
     "execution_count": 54,
     "metadata": {},
     "output_type": "execute_result"
    }
   ],
   "source": [
    "from itertools import combinations\n",
    "\n",
    "\n",
    "def get_min_diff(nums):\n",
    "    items = combinations(nums, len(nums) // 2)\n",
    "    min_diff = float(\"inf\")\n",
    "\n",
    "    for item in items:\n",
    "        diff = abs(sum(set(nums) - set(item)) - sum(set(item)))\n",
    "        if diff < min_diff:\n",
    "            min_diff = diff\n",
    "    \n",
    "    return min_diff\n",
    "\n",
    "\n",
    "get_min_diff([1,2,3,4,5,6,7,8,9,10])"
   ]
  },
  {
   "cell_type": "markdown",
   "metadata": {},
   "source": [
    "##### 密码输入检测"
   ]
  },
  {
   "cell_type": "code",
   "execution_count": 55,
   "metadata": {},
   "outputs": [
    {
     "data": {
      "text/plain": [
       "('ABc89%00', True)"
      ]
     },
     "execution_count": 55,
     "metadata": {},
     "output_type": "execute_result"
    }
   ],
   "source": [
    "# 检查密码安全性\n",
    "def check_pwd(pwd):\n",
    "    if (len(pwd) >= 8 and\n",
    "        any(c.isupper() for c in pwd) and\n",
    "        any(c.islower() for c in pwd) and\n",
    "        any(c.isdigit() for c in pwd) and\n",
    "        any(not c.isalnum() for c in pwd)):\n",
    "        return True\n",
    "    \n",
    "    return False\n",
    "\n",
    "\n",
    "# 处理密码\n",
    "def process_pwd(pwd):\n",
    "    new_pwd = []\n",
    "\n",
    "    for char in pwd:\n",
    "        if char == \"<\" and new_pwd:\n",
    "            new_pwd.pop()\n",
    "        else:\n",
    "            new_pwd.append(char)\n",
    "\n",
    "    return (\"\".join(new_pwd), check_pwd(new_pwd))\n",
    "\n",
    "\n",
    "process_pwd(\"ABC<c89%000<\")"
   ]
  },
  {
   "cell_type": "markdown",
   "metadata": {},
   "source": [
    "##### 最长子字符串长度"
   ]
  },
  {
   "cell_type": "code",
   "execution_count": 56,
   "metadata": {},
   "outputs": [
    {
     "data": {
      "text/plain": [
       "6"
      ]
     },
     "execution_count": 56,
     "metadata": {},
     "output_type": "execute_result"
    }
   ],
   "source": [
    "def get_even_longest_substr(string):\n",
    "    result = 0\n",
    "    o_count = string.lower().count(\"o\")\n",
    "\n",
    "    if o_count % 2 == 0:\n",
    "        result = len(string)\n",
    "    else:\n",
    "        result = len(string) - 1\n",
    "\n",
    "    return result\n",
    "\n",
    "\n",
    "string = \"alolobo\"\n",
    "get_even_longest_substr(string)"
   ]
  },
  {
   "cell_type": "markdown",
   "metadata": {},
   "source": [
    "##### 找座位"
   ]
  },
  {
   "cell_type": "code",
   "execution_count": 57,
   "metadata": {},
   "outputs": [
    {
     "data": {
      "text/plain": [
       "4"
      ]
     },
     "execution_count": 57,
     "metadata": {},
     "output_type": "execute_result"
    }
   ],
   "source": [
    "def max_additional_guests(seats):\n",
    "    max_additional = 0\n",
    "    index = 0\n",
    "\n",
    "    while index < len(seats):\n",
    "        if seats[index] == 0:\n",
    "            if index == 0 and seats[index + 1] == 0:\n",
    "                seats[index] = 1\n",
    "                max_additional += 1\n",
    "            elif index == len(seats) - 1 and seats[len(seats) - 2] == 0:\n",
    "                seats[index] = 1\n",
    "                max_additional += 1\n",
    "            elif sum(seats[index - 1:index + 2]) == 0:\n",
    "                seats[index] = 1\n",
    "                max_additional += 1\n",
    "        index += 1\n",
    "\n",
    "    return max_additional\n",
    "\n",
    "\n",
    "max_additional_guests([0,0,0,0,1,0,0,0,1,0,0])"
   ]
  },
  {
   "cell_type": "markdown",
   "metadata": {},
   "source": [
    "##### 计算最接近的数"
   ]
  },
  {
   "cell_type": "code",
   "execution_count": 58,
   "metadata": {},
   "outputs": [
    {
     "data": {
      "text/plain": [
       "7"
      ]
     },
     "execution_count": 58,
     "metadata": {},
     "output_type": "execute_result"
    }
   ],
   "source": [
    "from functools import reduce\n",
    "\n",
    "\n",
    "def find_best_idx(nums, K):\n",
    "    new_nums = sorted(nums)\n",
    "    mid_num = new_nums[len(new_nums) // 2]\n",
    "    min_gap = float(\"inf\")\n",
    "    best_idx = -1\n",
    "\n",
    "    for idx in range(0, len(nums) - K + 1):\n",
    "        cur_gap = abs(reduce(lambda before, after: before - after, nums[idx:idx + K]) - mid_num)\n",
    "        if cur_gap <= min_gap:\n",
    "            best_idx = idx\n",
    "            min_gap = cur_gap\n",
    "    \n",
    "    return best_idx\n",
    "\n",
    "\n",
    "find_best_idx([50,50,100,2,3,4,1,12,2,2,3],3)"
   ]
  },
  {
   "cell_type": "markdown",
   "metadata": {},
   "source": [
    "##### 报文回路"
   ]
  },
  {
   "cell_type": "code",
   "execution_count": 59,
   "metadata": {},
   "outputs": [
    {
     "name": "stdout",
     "output_type": "stream",
     "text": [
      "True\n",
      "False\n"
     ]
    }
   ],
   "source": [
    "def check_rote(nums):\n",
    "    for source, target in nums:\n",
    "        if (target, source) in nums:\n",
    "            continue\n",
    "        else:\n",
    "            return False\n",
    "    \n",
    "    return True\n",
    "\n",
    "\n",
    "print(check_rote([(1,2), (2,3), (3,2), (1,2), (2,1)]))\n",
    "print(check_rote([(1,3), (3,2), (2,3)]))"
   ]
  },
  {
   "cell_type": "markdown",
   "metadata": {},
   "source": [
    "##### 切割字符串"
   ]
  },
  {
   "cell_type": "code",
   "execution_count": 60,
   "metadata": {},
   "outputs": [
    {
     "data": {
      "text/plain": [
       "(2, 5)"
      ]
     },
     "execution_count": 60,
     "metadata": {},
     "output_type": "execute_result"
    }
   ],
   "source": [
    "from itertools import combinations\n",
    "\n",
    "\n",
    "def determine_pos(string: str):\n",
    "    for left, right in combinations((idx for idx in range(len(string))), 2):\n",
    "        if (sum(ord(char) for char in string[0:left]) == \n",
    "            sum(ord(char) for char in string[left + 1:right]) == \n",
    "            sum(ord(char) for char in string[right + 1::])):\n",
    "            return (left, right)\n",
    "    \n",
    "    return (0, 0)\n",
    "\n",
    "\n",
    "determine_pos(\"acdbbbca\")"
   ]
  },
  {
   "cell_type": "markdown",
   "metadata": {},
   "source": [
    "##### 统计颜色"
   ]
  },
  {
   "cell_type": "code",
   "execution_count": 61,
   "metadata": {},
   "outputs": [
    {
     "data": {
      "text/plain": [
       "2"
      ]
     },
     "execution_count": 61,
     "metadata": {},
     "output_type": "execute_result"
    }
   ],
   "source": [
    "def find_max_color_count(cars, N):\n",
    "    window = []\n",
    "    max_color = 0\n",
    "\n",
    "    for car in cars:\n",
    "        if len(window) == N and len(set(window)) > max_color:\n",
    "            temp_set = set(window)\n",
    "            temp_set.discard(0)\n",
    "            max_color = len(temp_set)\n",
    "        else:\n",
    "            window.append(car)\n",
    "    \n",
    "    return max_color\n",
    "\n",
    "\n",
    "find_max_color_count([0,1,2,1], 3)"
   ]
  },
  {
   "cell_type": "markdown",
   "metadata": {},
   "source": [
    "##### 选修课"
   ]
  },
  {
   "cell_type": "code",
   "execution_count": 62,
   "metadata": {},
   "outputs": [
    {
     "name": "stdout",
     "output_type": "stream",
     "text": [
      "{'01202021': 150.0, '01202008': 155.0, '01203088': 185.0}\n"
     ]
    }
   ],
   "source": [
    "def process_scores(en_scores, zh_scores):\n",
    "    en_dict = dict([item.split(\",\") for item in en_scores.split(\";\")])\n",
    "    zh_dict = dict([item.split(\",\") for item in zh_scores.split(\";\")])\n",
    "    total_dict = {key: float(en_dict[key]) + float(zh_dict[key]) for key in set(en_dict.keys()) & set(zh_dict.keys())}\n",
    "\n",
    "    if len(total_dict) == 0:\n",
    "        return None\n",
    "    else:\n",
    "        total_dict = dict(sorted(total_dict.items(), key=lambda item: (int(item[0][0:6]), not item[1]), reverse=False))\n",
    "\n",
    "    return total_dict\n",
    "\n",
    "\n",
    "scores1 = \"01202021,75;01201033,95;01202008,85;01203006,90;01203088,100\"\n",
    "scores2 = \"01202008,70;01203088,85;01202111,80;01202021,75;01201100,88\"\n",
    "print(process_scores(scores1, scores2))"
   ]
  },
  {
   "cell_type": "markdown",
   "metadata": {},
   "source": [
    "##### 数字游戏"
   ]
  },
  {
   "cell_type": "code",
   "execution_count": 63,
   "metadata": {},
   "outputs": [
    {
     "name": "stdout",
     "output_type": "stream",
     "text": [
      "(True, [1, 12, 6, 2])\n",
      "False\n"
     ]
    }
   ],
   "source": [
    "def can_div(nums, card):\n",
    "    left, right = 0, 0\n",
    "\n",
    "    while left < len(nums):\n",
    "        right += 1\n",
    "        if sum(nums[left:right]) % card == 0:\n",
    "            return True, nums[left:right]\n",
    "        elif right == len(nums):\n",
    "            left += 1\n",
    "            right = left\n",
    "    \n",
    "    return False\n",
    "\n",
    "\n",
    "print(can_div([1,12,6,2,5,5], 7))\n",
    "print(can_div([11,12,13,2], 7))"
   ]
  },
  {
   "cell_type": "markdown",
   "metadata": {},
   "source": [
    "##### 跳房子"
   ]
  },
  {
   "cell_type": "code",
   "execution_count": 64,
   "metadata": {},
   "outputs": [
    {
     "name": "stdout",
     "output_type": "stream",
     "text": [
      "(5, 2)\n",
      "(-1, 9)\n"
     ]
    }
   ],
   "source": [
    "def jump_home(count, nums):\n",
    "    for num in nums:\n",
    "        if count - num in nums:\n",
    "            return (num, count - num)\n",
    "    return None\n",
    "\n",
    "\n",
    "print(jump_home(7, [1,4,5,2,2]))\n",
    "print(jump_home(8, [-1,2,4,9,6]))"
   ]
  },
  {
   "cell_type": "markdown",
   "metadata": {},
   "source": [
    "##### 喊 `7` 游戏"
   ]
  },
  {
   "cell_type": "code",
   "execution_count": 65,
   "metadata": {},
   "outputs": [
    {
     "data": {
      "text/plain": [
       "[0, 2, 0, 1, 0]"
      ]
     },
     "execution_count": 65,
     "metadata": {},
     "output_type": "execute_result"
    }
   ],
   "source": [
    "def pass_order(nums):\n",
    "    total_pass = sum(nums)\n",
    "    result = [0] * len(nums)\n",
    "    cur_num = 1\n",
    "\n",
    "    while total_pass > 0:\n",
    "        if cur_num % 7 == 0 or \"7\" in str(cur_num):\n",
    "            total_pass -= 1\n",
    "            result[(cur_num - 1) % len(nums)] += 1\n",
    "        cur_num += 1\n",
    "    \n",
    "    return result\n",
    "\n",
    "\n",
    "pass_order([0,0,0,2,1])"
   ]
  },
  {
   "cell_type": "markdown",
   "metadata": {},
   "source": [
    "##### 报数游戏"
   ]
  },
  {
   "cell_type": "code",
   "execution_count": 66,
   "metadata": {},
   "outputs": [
    {
     "data": {
      "text/plain": [
       "[4]"
      ]
     },
     "execution_count": 66,
     "metadata": {},
     "output_type": "execute_result"
    }
   ],
   "source": [
    "def find_last_player(n):\n",
    "    idx = 0\n",
    "    people = [*range(1, n + 1)]\n",
    "    \n",
    "    while len(people) > 1:\n",
    "        idx = (idx + 2) % len(people)\n",
    "        people.pop(idx)\n",
    "\n",
    "        # idx += 2\n",
    "        # if idx > len(people) - 1:\n",
    "        #     idx = idx - len(people)\n",
    "        # people.pop(idx)\n",
    "    \n",
    "    return people\n",
    "\n",
    "\n",
    "find_last_player(10)"
   ]
  },
  {
   "cell_type": "markdown",
   "metadata": {},
   "source": [
    "##### 回文字符串"
   ]
  },
  {
   "cell_type": "code",
   "execution_count": 67,
   "metadata": {},
   "outputs": [
    {
     "data": {
      "text/plain": [
       "'abbcccddddzzzzzkzzzzzddddcccbba'"
      ]
     },
     "execution_count": 67,
     "metadata": {},
     "output_type": "execute_result"
    }
   ],
   "source": [
    "from collections import Counter\n",
    "\n",
    "\n",
    "def longest_palindrome(text: str) -> str:\n",
    "    chars_dict = Counter(text)\n",
    "    pair_chars = [item for item in chars_dict.items() if item[1] % 2 == 0]\n",
    "    unpair_chars = [item for item in chars_dict.items() if item[1] % 2 == 1]\n",
    "\n",
    "    pair_chars = sorted(pair_chars, key=lambda item: item[0], reverse=False)\n",
    "    unpair_chars = sorted(unpair_chars, key=lambda item: item[1], reverse=True)\n",
    "    \n",
    "    pre_str = \"\".join([key * (value // 2) for key, value in pair_chars])\n",
    "    new_str = \"\"\n",
    "    if unpair_chars:\n",
    "        char, len = unpair_chars[0]\n",
    "        new_str += char * len\n",
    "    new_str = pre_str + new_str + pre_str[::-1]\n",
    "    \n",
    "    return new_str\n",
    "\n",
    "\n",
    "longest_palindrome(\"aabbbbccccccddddddddzzzzzzzzzzk\")"
   ]
  },
  {
   "cell_type": "markdown",
   "metadata": {},
   "source": [
    "##### 最小步数"
   ]
  },
  {
   "cell_type": "code",
   "execution_count": 68,
   "metadata": {},
   "outputs": [
    {
     "data": {
      "text/plain": [
       "10"
      ]
     },
     "execution_count": 68,
     "metadata": {},
     "output_type": "execute_result"
    }
   ],
   "source": [
    "def min_steps(pos):\n",
    "    if pos in {2, 3}:\n",
    "        return 1\n",
    "    elif pos == 1:\n",
    "        return 2\n",
    "    elif pos % 3 == 0:\n",
    "        return pos // 3\n",
    "    elif pos % 3 == 1:\n",
    "        return (pos - 4) // 3 + 2\n",
    "    elif pos % 3 == 2:\n",
    "        return pos // 3 + 1\n",
    "\n",
    "\n",
    "min_steps(29)"
   ]
  },
  {
   "cell_type": "markdown",
   "metadata": {},
   "source": [
    "##### 五子棋"
   ]
  },
  {
   "cell_type": "code",
   "execution_count": 69,
   "metadata": {},
   "outputs": [
    {
     "data": {
      "text/plain": [
       "6"
      ]
     },
     "execution_count": 69,
     "metadata": {},
     "output_type": "execute_result"
    }
   ],
   "source": [
    "def optimal_move(piece_type, chess_line):\n",
    "    result_idx = 0\n",
    "    max_streak = 0\n",
    "    mid_idx = len(chess_line) // 2\n",
    "    \n",
    "    for idx, value in enumerate(chess_line):\n",
    "        if value != 0:\n",
    "            continue\n",
    "        left = idx - 1\n",
    "        right = idx + 1\n",
    "        cur_streak = 1\n",
    "\n",
    "        while left >= 0 and chess_line[left] == piece_type:\n",
    "            cur_streak += 1\n",
    "            left -= 1\n",
    "        \n",
    "        while right < len(chess_line) and chess_line[right] == piece_type:\n",
    "            cur_streak += 1\n",
    "            right += 1\n",
    "        \n",
    "        if (cur_streak > max_streak) or (cur_streak == max_streak and abs(idx - mid_idx) < abs(result_idx - mid_idx)):\n",
    "            max_streak = cur_streak\n",
    "            result_idx = idx\n",
    "    \n",
    "    return result_idx if max_streak <= 5 else -1\n",
    "\n",
    "\n",
    "optimal_move(1, [-1, 0, 1, 1, -1, 1, 0, 1, 1, -1, 1])"
   ]
  },
  {
   "cell_type": "markdown",
   "metadata": {},
   "source": [
    "##### 不开心的小朋友"
   ]
  },
  {
   "cell_type": "code",
   "execution_count": 70,
   "metadata": {},
   "outputs": [
    {
     "name": "stdout",
     "output_type": "stream",
     "text": [
      "1\n"
     ]
    }
   ],
   "source": [
    "def count_unhappy_children(num_of_cars, children_actions):\n",
    "    player_set = set()\n",
    "    player_queue = []\n",
    "    bad_player_count = 0\n",
    "\n",
    "    for player in children_actions:\n",
    "        if player in player_set:\n",
    "            player_set.remove(player)\n",
    "            if player_queue:\n",
    "                player_set.add(player_queue.pop(0))\n",
    "        elif player in player_queue:\n",
    "            player_queue.pop(0)\n",
    "            bad_player_count += 1\n",
    "        else:\n",
    "            if len(player_set) < num_of_cars:\n",
    "                player_set.add(player)\n",
    "            else:\n",
    "                player_queue.append(player)\n",
    "    \n",
    "    return bad_player_count\n",
    "\n",
    "\n",
    "print(count_unhappy_children(2, [1,2,3,3,2,1]))"
   ]
  },
  {
   "cell_type": "markdown",
   "metadata": {},
   "source": [
    "##### GPU 执行任务时长"
   ]
  },
  {
   "cell_type": "code",
   "execution_count": 71,
   "metadata": {},
   "outputs": [
    {
     "data": {
      "text/plain": [
       "23328"
      ]
     },
     "execution_count": 71,
     "metadata": {},
     "output_type": "execute_result"
    }
   ],
   "source": [
    "def min_time(max_proc, proc_list):\n",
    "    time = 0\n",
    "\n",
    "    while proc_list:\n",
    "        task = proc_list.pop(0)\n",
    "        time += 1\n",
    "\n",
    "        if task > max_proc:\n",
    "            if proc_list:\n",
    "                proc_list[0] += task - max_proc\n",
    "            else:\n",
    "                proc_list.append(task - max_proc)\n",
    "\n",
    "    return time\n",
    "\n",
    "\n",
    "min_time(3,  [1,2,3,4,34,21,1,5,5,1,21,8,56,2,3,4,5,6,7,45,65645, 1,4100])"
   ]
  },
  {
   "cell_type": "markdown",
   "metadata": {},
   "source": [
    "##### 测试用例"
   ]
  },
  {
   "cell_type": "code",
   "execution_count": 72,
   "metadata": {},
   "outputs": [
    {
     "data": {
      "text/plain": [
       "dict_keys([3, 4, 1, 2])"
      ]
     },
     "execution_count": 72,
     "metadata": {},
     "output_type": "execute_result"
    }
   ],
   "source": [
    "def test(features, cases):\n",
    "    result = {}\n",
    "\n",
    "    for idx, items in enumerate(cases, start=1):\n",
    "        result.update({idx: sum([features[item-1] for item in items])})\n",
    "    \n",
    "    result = dict(sorted(result.items(), key=lambda item: item[1], reverse=True))\n",
    "\n",
    "    return result.keys()\n",
    "\n",
    "\n",
    "test([1,1,2,3,5], [[1,2,3], [1,4], [3,4,5], [2,3,4]])"
   ]
  },
  {
   "cell_type": "markdown",
   "metadata": {},
   "source": [
    "##### 悄悄话"
   ]
  },
  {
   "cell_type": "code",
   "execution_count": 73,
   "metadata": {},
   "outputs": [
    {
     "data": {
      "text/plain": [
       "38"
      ]
     },
     "execution_count": 73,
     "metadata": {},
     "output_type": "execute_result"
    }
   ],
   "source": [
    "class TreeNode:\n",
    "    def __init__(self, val=0, left=None, right=None):\n",
    "        self.val = val\n",
    "        self.left = left\n",
    "        self.right = right\n",
    "\n",
    "\n",
    "def build_tree(nums):\n",
    "    root = TreeNode(nums[0])\n",
    "    stack = [[0, root]]\n",
    "\n",
    "    while stack:\n",
    "        idx, parent = stack.pop(0)\n",
    "        l_idx = 2 * idx + 1\n",
    "        r_idx = 2 * idx + 2\n",
    "\n",
    "        if l_idx < len(nums) and nums[l_idx] != -1:\n",
    "            l_node = TreeNode(nums[l_idx])\n",
    "            parent.left = l_node\n",
    "            stack.append([l_idx, l_node])\n",
    "\n",
    "        if r_idx < len(nums) and nums[r_idx] != -1:\n",
    "            r_node = TreeNode(nums[r_idx])\n",
    "            parent.right = r_node\n",
    "            stack.append([r_idx, r_node])\n",
    "\n",
    "    return root\n",
    "\n",
    "\n",
    "def total_time(root):\n",
    "    stack = [[root, root.val]]\n",
    "    max_time = 0\n",
    "\n",
    "    while stack:\n",
    "        parent, val = stack.pop(0)\n",
    "        max_time =  max(val, max_time)\n",
    "\n",
    "        if parent.left:\n",
    "            stack.append([parent.left, parent.left.val + val])\n",
    "        if parent.right:\n",
    "            stack.append([parent.right, parent.right.val + val])\n",
    "    \n",
    "    return max_time\n",
    "\n",
    "\n",
    "nums = [0, 9, 20, -1, -1, 15, 7, -1, -1, -1, -1, 3, 2]\n",
    "root = build_tree(nums)\n",
    "total_time(root)"
   ]
  },
  {
   "cell_type": "markdown",
   "metadata": {},
   "source": [
    "##### 分配土地"
   ]
  },
  {
   "cell_type": "code",
   "execution_count": 74,
   "metadata": {},
   "outputs": [
    {
     "name": "stdout",
     "output_type": "stream",
     "text": [
      "9\n",
      "3\n"
     ]
    }
   ],
   "source": [
    "def allocate_land(m, n, nums):\n",
    "    nums_dict = {}\n",
    "    max_area = 1\n",
    "\n",
    "    for i in range(m):\n",
    "        for j in range(n):\n",
    "            if nums[i][j] == 0:\n",
    "                continue\n",
    "            elif not nums_dict.get(nums[i][j]):\n",
    "                nums_dict.update({nums[i][j]: {(i, j)}})\n",
    "            else:\n",
    "                nums_dict[nums[i][j]].add((i, j))\n",
    "    \n",
    "    for key in nums_dict.keys():\n",
    "        x_set = {item[0] for item in nums_dict[key]}\n",
    "        y_set = {item[1] for item in nums_dict[key]}\n",
    "        x = max(x_set) - min(x_set) + 1\n",
    "        y = max(y_set) - min(y_set) + 1\n",
    "        if x * y > max_area:\n",
    "            max_area = x * y\n",
    "    \n",
    "    return max_area\n",
    "\n",
    "\n",
    "print(allocate_land(3, 3, [[1,0,1], [0,0,0], [0,0,1]]))\n",
    "print(allocate_land(3, 3, [[1,1,0], [2,0,2], [0,3,3]]))"
   ]
  },
  {
   "cell_type": "markdown",
   "metadata": {},
   "source": [
    "##### 找朋友"
   ]
  },
  {
   "cell_type": "code",
   "execution_count": 75,
   "metadata": {},
   "outputs": [
    {
     "data": {
      "text/plain": [
       "[1, 2, 6, 5, 5, 6, 0, 0]"
      ]
     },
     "execution_count": 75,
     "metadata": {},
     "output_type": "execute_result"
    }
   ],
   "source": [
    "def get_friend_position(heights):\n",
    "    stack = []\n",
    "    result = [0] * len(heights)\n",
    "\n",
    "    for idx in range(len(heights)):\n",
    "        while stack and heights[stack[-1]] < heights[idx]:\n",
    "            result[stack.pop(-1)] = idx\n",
    "        stack.append(idx)\n",
    "    \n",
    "    return result\n",
    "\n",
    "\n",
    "get_friend_position([123,124,125,121,119,122,126,123])"
   ]
  },
  {
   "cell_type": "markdown",
   "metadata": {},
   "source": [
    "##### 组装最大可靠性装备"
   ]
  },
  {
   "cell_type": "code",
   "execution_count": 76,
   "metadata": {},
   "outputs": [
    {
     "data": {
      "text/plain": [
       "((80, 100), (70, 210), (60, 150))"
      ]
     },
     "execution_count": 76,
     "metadata": {},
     "output_type": "execute_result"
    }
   ],
   "source": [
    "from itertools import product\n",
    "\n",
    "\n",
    "def trustworthy_check(total, nums):\n",
    "    product_result = [items for items in list(product(*nums)) if sum(item[1] for item in items) <= total]\n",
    "    product_result = sorted(product_result, key=lambda items: min(item[0] for item in items), reverse=True)\n",
    "\n",
    "    return product_result[0]\n",
    "\n",
    "\n",
    "nums = [\n",
    "    [(80,100), (90,200)],\n",
    "    [(50,50), (70, 210)],\n",
    "    [(50,100), (60,150)]\n",
    "]\n",
    "trustworthy_check(500, nums)"
   ]
  },
  {
   "cell_type": "markdown",
   "metadata": {},
   "source": [
    "##### 分配内存"
   ]
  },
  {
   "cell_type": "code",
   "execution_count": 77,
   "metadata": {},
   "outputs": [
    {
     "data": {
      "text/plain": [
       "[True, True, True, False, False]"
      ]
     },
     "execution_count": 77,
     "metadata": {},
     "output_type": "execute_result"
    }
   ],
   "source": [
    "def allocate_memory(memory, requests):\n",
    "    memory = dict(sorted(memory.items(), key=lambda item: item[0], reverse=False))\n",
    "    result = [False] * len(requests)\n",
    "\n",
    "    for req_idx in range(len(requests)):\n",
    "        for key, value in memory.items():\n",
    "            if key >= requests[req_idx] and value > 0:\n",
    "                result[req_idx] = True\n",
    "                memory[key] -= 1\n",
    "                break\n",
    "    \n",
    "    return result\n",
    "\n",
    "\n",
    "allocate_memory({64:2, 128:1, 32:100, 1:128}, [50,36,64,128,127])"
   ]
  },
  {
   "cell_type": "markdown",
   "metadata": {},
   "source": [
    "##### 机房布局"
   ]
  },
  {
   "cell_type": "code",
   "execution_count": 78,
   "metadata": {},
   "outputs": [
    {
     "data": {
      "text/plain": [
       "3"
      ]
     },
     "execution_count": 78,
     "metadata": {},
     "output_type": "execute_result"
    }
   ],
   "source": [
    "def need_box(nums):\n",
    "    idx = 0\n",
    "    result = 0\n",
    "\n",
    "    while idx < len(nums):\n",
    "        if \"M\" in nums[idx:idx + 2] and \"I\" in nums[idx: idx + 2]:\n",
    "            result += 1\n",
    "            idx += 2\n",
    "        else:\n",
    "            idx += 1\n",
    "\n",
    "    return result\n",
    "\n",
    "\n",
    "need_box(\"MIIIIIIMMIM\")"
   ]
  },
  {
   "cell_type": "markdown",
   "metadata": {},
   "source": [
    "##### 统计非 `1` 元素"
   ]
  },
  {
   "cell_type": "code",
   "execution_count": 79,
   "metadata": {},
   "outputs": [
    {
     "data": {
      "text/plain": [
       "9"
      ]
     },
     "execution_count": 79,
     "metadata": {},
     "output_type": "execute_result"
    }
   ],
   "source": [
    "from collections import deque\n",
    "\n",
    "\n",
    "MOVE = {\n",
    "    (0, -1),\n",
    "    (0, 1),\n",
    "    (-1, 0),\n",
    "    (1, 0)\n",
    "}\n",
    "\n",
    "\n",
    "def count_element(nums, m, n):\n",
    "    idx_queue = deque()\n",
    "    idx_queue.append((0, 0))\n",
    "    \n",
    "    while idx_queue:\n",
    "        start_x, start_y = idx_queue.popleft()\n",
    "        nums[start_x][start_y] = 1\n",
    "\n",
    "        for opt_x, opt_y in MOVE:\n",
    "            end_x = start_x + opt_x\n",
    "            end_y = start_y + opt_y\n",
    "\n",
    "            if 0 <= end_x < m and 0 <= end_y < n and nums[end_x][end_y] == 0:\n",
    "                idx_queue.append((end_x, end_y))\n",
    "    \n",
    "    return m * n - sum(row.count(1) for row in nums)\n",
    "\n",
    "\n",
    "count_element([[0,0,0,0], [0,2,2,2], [0,2,0,0], [0,2,0,0]], 4, 4)"
   ]
  },
  {
   "cell_type": "markdown",
   "metadata": {},
   "source": [
    "##### 静态扫描"
   ]
  },
  {
   "cell_type": "code",
   "execution_count": 80,
   "metadata": {},
   "outputs": [
    {
     "name": "stdout",
     "output_type": "stream",
     "text": [
      "9\n"
     ]
    }
   ],
   "source": [
    "def calculate_cost(cost, file_ids, file_sizes):\n",
    "    file_fileds = {file_id: {\"size\": file_sizes[file_id], \"count\": file_ids.count(file_id)} for file_id in file_ids}\n",
    "    total_cost = 0\n",
    "\n",
    "    for value in file_fileds.values():\n",
    "        scan_cost = value[\"size\"] * value[\"count\"]\n",
    "        save_cost = value[\"size\"] + cost\n",
    "        total_cost += scan_cost if scan_cost < save_cost else save_cost\n",
    "\n",
    "    return total_cost\n",
    "\n",
    "\n",
    "print(calculate_cost(5, [2,2,2,2,2,5,2,2,2], [3,3,3,3,3,1,3,3,3]))"
   ]
  },
  {
   "cell_type": "markdown",
   "metadata": {},
   "source": [
    "##### 插队"
   ]
  },
  {
   "cell_type": "code",
   "execution_count": 81,
   "metadata": {},
   "outputs": [
    {
     "data": {
      "text/plain": [
       "[(2, 2)]"
      ]
     },
     "execution_count": 81,
     "metadata": {},
     "output_type": "execute_result"
    }
   ],
   "source": [
    "def insert(events):\n",
    "    queue = []\n",
    "    result = []\n",
    "\n",
    "    for env in events:\n",
    "        if env[0] == \"a\":\n",
    "            queue.append((env[1], env[2]))\n",
    "        else:\n",
    "            queue = sorted(queue, key=lambda item: item[1], reverse=False)\n",
    "            result.append(queue.pop(0))\n",
    "    \n",
    "    return result\n",
    "\n",
    "\n",
    "insert([[\"a\", 1, 3], [\"a\", 2, 2], [\"a\", 3, 2], [\"p\"]])"
   ]
  },
  {
   "cell_type": "markdown",
   "metadata": {},
   "source": [
    "##### 最佳植树距离"
   ]
  },
  {
   "cell_type": "code",
   "execution_count": 82,
   "metadata": {},
   "outputs": [
    {
     "data": {
      "text/plain": [
       "6"
      ]
     },
     "execution_count": 82,
     "metadata": {},
     "output_type": "execute_result"
    }
   ],
   "source": [
    "def can_plant(pos, num, gap):\n",
    "    last_pos = pos[0]\n",
    "    count = 1\n",
    "\n",
    "    for cur_pos in pos:\n",
    "        if cur_pos - last_pos >= gap:\n",
    "            last_pos = cur_pos\n",
    "            count += 1\n",
    "    \n",
    "    return count >= num\n",
    "\n",
    "\n",
    "def max_dis(pos, num):\n",
    "    pos.sort()\n",
    "    left, right = pos[0], pos[-1]\n",
    "    \n",
    "    while left <= right:\n",
    "        mid = (left + right) // 2\n",
    "        if can_plant(pos, num, mid):\n",
    "            left = mid + 1\n",
    "        else:\n",
    "            right = mid - 1\n",
    "    \n",
    "    return right\n",
    "\n",
    "\n",
    "max_dis([1,5,3,6,10,7,13], 3)"
   ]
  },
  {
   "cell_type": "markdown",
   "metadata": {},
   "source": [
    "##### 称砝码"
   ]
  },
  {
   "cell_type": "code",
   "execution_count": 83,
   "metadata": {},
   "outputs": [
    {
     "data": {
      "text/plain": [
       "{0, 1, 2, 3, 4}"
      ]
     },
     "execution_count": 83,
     "metadata": {},
     "output_type": "execute_result"
    }
   ],
   "source": [
    "from itertools import combinations\n",
    "\n",
    "\n",
    "def diff_weight(types, nums):\n",
    "    weights = []\n",
    "    result = []\n",
    "\n",
    "    for type, num in zip(types, nums):\n",
    "        weights.extend([type] * num)\n",
    "\n",
    "    for num in range(sum(nums) + 1):\n",
    "        result.extend(combinations(weights, num))\n",
    "\n",
    "    return {sum(item) for item in result}\n",
    "\n",
    "\n",
    "diff_weight([1,2], [2,1])"
   ]
  },
  {
   "cell_type": "markdown",
   "metadata": {},
   "source": [
    "##### 数字比大小"
   ]
  },
  {
   "cell_type": "code",
   "execution_count": 84,
   "metadata": {},
   "outputs": [
    {
     "name": "stdout",
     "output_type": "stream",
     "text": [
      "6\n"
     ]
    }
   ],
   "source": [
    "def calculate_max_score(num, horses_A, horses_B):\n",
    "    horses_A = sorted(horses_A)\n",
    "    horses_B = sorted(horses_B)\n",
    "\n",
    "    weaker_a, stronger_a = 0, num - 1\n",
    "    weaker_b, stronger_b = 0, num - 1\n",
    "    points = 0\n",
    "\n",
    "    for _ in range(num):\n",
    "        if horses_A[stronger_a] > horses_B[stronger_b]:\n",
    "            points += 1\n",
    "            stronger_a -= 1\n",
    "            stronger_b -= 1\n",
    "        else:\n",
    "            if horses_A[weaker_a] < horses_B[stronger_b]:\n",
    "                points -= 1\n",
    "            weaker_a += 1\n",
    "            stronger_b -= 1\n",
    "            \n",
    "    return points\n",
    "\n",
    "\n",
    "print(calculate_max_score(9, [4,8,10,1,12,32,3,14,1], [3,6,4,5,3,2,1,4,11]))"
   ]
  },
  {
   "cell_type": "markdown",
   "metadata": {},
   "source": [
    "##### 最长公共后缀"
   ]
  },
  {
   "cell_type": "code",
   "execution_count": 85,
   "metadata": {},
   "outputs": [
    {
     "data": {
      "text/plain": [
       "['c']"
      ]
     },
     "execution_count": 85,
     "metadata": {},
     "output_type": "execute_result"
    }
   ],
   "source": [
    "def find_commn_suffix(strs):\n",
    "    result = []\n",
    "    idx = -1\n",
    "    \n",
    "    while True:\n",
    "        suffix_list = [str[idx] for str in strs if abs(idx) <= len(str)]\n",
    "        suffix_set = set(suffix_list)\n",
    "        if len(suffix_list) == len(strs) and len(suffix_set) == 1:\n",
    "            idx -= 1\n",
    "            result.append(suffix_set.pop())\n",
    "        else:\n",
    "            break\n",
    "\n",
    "    return result\n",
    "\n",
    "\n",
    "find_commn_suffix([\"abc\", \"aac\", \"c\"])"
   ]
  },
  {
   "cell_type": "markdown",
   "metadata": {},
   "source": [
    "##### 数据最节约的备份方法"
   ]
  },
  {
   "cell_type": "code",
   "execution_count": 86,
   "metadata": {},
   "outputs": [
    {
     "data": {
      "text/plain": [
       "[500, 500, 500]"
      ]
     },
     "execution_count": 86,
     "metadata": {},
     "output_type": "execute_result"
    }
   ],
   "source": [
    "def min_discs_needed(files, capacity=500):\n",
    "    files.sort(reverse=True)\n",
    "    discs = [0]\n",
    "\n",
    "    for file in files:\n",
    "        file_idx = 0\n",
    "        while file_idx <= len(discs):\n",
    "            if discs[file_idx] + file <= capacity:\n",
    "                discs[file_idx] += file\n",
    "                break\n",
    "            elif file_idx == len(discs) - 1:\n",
    "                discs.append(file)\n",
    "                break\n",
    "            file_idx += 1\n",
    "\n",
    "    return discs\n",
    "\n",
    "\n",
    "min_discs_needed([100,200,300,400,500])"
   ]
  },
  {
   "cell_type": "markdown",
   "metadata": {},
   "source": [
    "##### 恢复数字序列"
   ]
  },
  {
   "cell_type": "code",
   "execution_count": 87,
   "metadata": {},
   "outputs": [
    {
     "data": {
      "text/plain": [
       "8"
      ]
     },
     "execution_count": 87,
     "metadata": {},
     "output_type": "execute_result"
    }
   ],
   "source": [
    "def find_min_number(s, n):\n",
    "    s_list = sorted(s, reverse=True)\n",
    "    \n",
    "    for start in range(1, int(\"\".join(s_list[:n+1]))):\n",
    "        temp_str = \"\"\n",
    "\n",
    "        for num in range(start, start + n):\n",
    "            temp_str += str(num)\n",
    "        \n",
    "        if sorted(temp_str) == sorted(s_list):\n",
    "            return start\n",
    "\n",
    "\n",
    "find_min_number(\"19801211\", 5)"
   ]
  },
  {
   "cell_type": "markdown",
   "metadata": {},
   "source": [
    "##### 警告抑制"
   ]
  },
  {
   "cell_type": "code",
   "execution_count": 88,
   "metadata": {},
   "outputs": [
    {
     "data": {
      "text/plain": [
       "['A', 'D', 'E']"
      ]
     },
     "execution_count": 88,
     "metadata": {},
     "output_type": "execute_result"
    }
   ],
   "source": [
    "def sup_alert(alerts, queue):\n",
    "    alerts_dict = dict(item for item in alerts)\n",
    "    delete_alerts = {value for key, value in alerts_dict.items() if key in queue}\n",
    "    result = [item for item in queue if item not in delete_alerts]\n",
    "\n",
    "    return result\n",
    "\n",
    "\n",
    "sup_alert([[\"A\",\"B\"], [\"B\",\"C\"]], \"ABCDE\")"
   ]
  },
  {
   "cell_type": "markdown",
   "metadata": {},
   "source": [
    "##### 冠亚季军"
   ]
  },
  {
   "cell_type": "code",
   "execution_count": 89,
   "metadata": {},
   "outputs": [
    {
     "data": {
      "text/plain": [
       "[5, 7, 33]"
      ]
     },
     "execution_count": 89,
     "metadata": {},
     "output_type": "execute_result"
    }
   ],
   "source": [
    "def get_winners(players):\n",
    "    cur_idx = 0\n",
    "\n",
    "    while len(players) > 3:\n",
    "        idx = cur_idx % len(players)\n",
    "        players = players[:idx] + [max(players[idx:idx + 2])] + players[idx + 2:]\n",
    "        cur_idx += 1\n",
    "\n",
    "    players.sort()\n",
    "    return players\n",
    "\n",
    "\n",
    "players = [2,3,4,5,3,1,33,32,1,6,7]\n",
    "get_winners(players[::])"
   ]
  },
  {
   "cell_type": "markdown",
   "metadata": {},
   "source": [
    "##### 黄金宝箱"
   ]
  },
  {
   "cell_type": "code",
   "execution_count": 90,
   "metadata": {},
   "outputs": [
    {
     "data": {
      "text/plain": [
       "[5, -1, 5]"
      ]
     },
     "execution_count": 90,
     "metadata": {},
     "output_type": "execute_result"
    }
   ],
   "source": [
    "def find_after(nums):\n",
    "    idx = 0\n",
    "    result = [0] * len(nums)\n",
    "\n",
    "    while idx < len(nums):\n",
    "        fast_idx = (idx + 1) % len(nums)\n",
    "        \n",
    "        while True:\n",
    "            if fast_idx == idx:\n",
    "                result[idx] = -1\n",
    "                break\n",
    "            elif nums[fast_idx] > nums[idx]:\n",
    "                result[idx] = nums[fast_idx]\n",
    "                break\n",
    "            else:\n",
    "                fast_idx = (fast_idx + 1) % len(nums)\n",
    "        \n",
    "        idx += 1\n",
    "    \n",
    "    return result\n",
    "\n",
    "\n",
    "find_after([2,5,2])"
   ]
  },
  {
   "cell_type": "markdown",
   "metadata": {},
   "source": [
    "#### 算法心得"
   ]
  },
  {
   "cell_type": "markdown",
   "metadata": {},
   "source": [
    "- 栈可为空，创建后可不立即添加数据\n",
    "- 栈可以边添加数据边弹出数据，不要思维固化\n",
    "- 遇到需要标识场景，可使用自定义的数据结构\n",
    "- 想不出灵活的方法，就暴力解决\n",
    "- 暴力方法有很多工具，即使暴力也可以灵活地编写代码\n",
    "- 循环数组，可以使用 `(<CURRENT_INDEX> + <STEP>) % ARRAY_LEN`\n",
    "- 单个数组可以用双指针，多个数组也可以用多个双指针\n",
    "- 先把条件拆分，再把条件合并\n",
    "- 多个条件可使用字典"
   ]
  }
 ],
 "metadata": {
  "kernelspec": {
   "display_name": "Python 3",
   "language": "python",
   "name": "python3"
  },
  "language_info": {
   "codemirror_mode": {
    "name": "ipython",
    "version": 3
   },
   "file_extension": ".py",
   "mimetype": "text/x-python",
   "name": "python",
   "nbconvert_exporter": "python",
   "pygments_lexer": "ipython3",
   "version": "3.13.2"
  }
 },
 "nbformat": 4,
 "nbformat_minor": 2
}

{
 "cells": [
  {
   "cell_type": "markdown",
   "metadata": {},
   "source": [
    "#### Sliding Window （滑动窗口）"
   ]
  },
  {
   "cell_type": "markdown",
   "metadata": {},
   "source": [
    "##### 最长无重复字符的子字符串\n",
    "\n",
    "- 给定一个字符串，找到最长 `s` 的长度子字符串没有重复的字符"
   ]
  },
  {
   "cell_type": "code",
   "execution_count": 67,
   "metadata": {},
   "outputs": [
    {
     "name": "stdout",
     "output_type": "stream",
     "text": [
      "3\n"
     ]
    }
   ],
   "source": [
    "def length_of_longest_substring(s):\n",
    "    start = 0\n",
    "    max_len = 0\n",
    "    char_set = set()\n",
    "\n",
    "    for end in range(len(s)):\n",
    "        while s[end] in char_set:\n",
    "            char_set.remove(s[start])\n",
    "            start += 1\n",
    "        char_set.add(s[end])\n",
    "        max_len = max(max_len, end - start + 1)\n",
    "\n",
    "    return max_len\n",
    "\n",
    "\n",
    "input_string = \"abcbbabcbb\"\n",
    "print(length_of_longest_substring(input_string))"
   ]
  },
  {
   "cell_type": "markdown",
   "metadata": {},
   "source": [
    "#### Subset"
   ]
  },
  {
   "cell_type": "markdown",
   "metadata": {},
   "source": [
    "##### 排列\n",
    "\n",
    "- 给定 `nums` 不同整数数组，返回所有可能的排列"
   ]
  },
  {
   "cell_type": "code",
   "execution_count": 68,
   "metadata": {},
   "outputs": [
    {
     "data": {
      "text/plain": [
       "[(1, 2, 3), (1, 3, 2), (2, 1, 3), (2, 3, 1), (3, 1, 2), (3, 2, 1)]"
      ]
     },
     "execution_count": 68,
     "metadata": {},
     "output_type": "execute_result"
    }
   ],
   "source": [
    "from itertools import permutations\n",
    "\n",
    "\n",
    "def permute(nums):\n",
    "    return list(permutations(nums))\n",
    "\n",
    "\n",
    "permute([1, 2, 3])"
   ]
  },
  {
   "cell_type": "markdown",
   "metadata": {},
   "source": [
    "#### Modified Binary Search"
   ]
  },
  {
   "cell_type": "markdown",
   "metadata": {},
   "source": [
    "##### 在旋转排序数组中搜索\n",
    "\n",
    "- 有一个 `nums` 按升序排序的整数数组 （具有不同的值）\n",
    "- 在传递给函数之前，可能 `nums` 会在未知的枢轴索引处旋转"
   ]
  },
  {
   "cell_type": "code",
   "execution_count": 69,
   "metadata": {},
   "outputs": [
    {
     "data": {
      "text/plain": [
       "4"
      ]
     },
     "execution_count": 69,
     "metadata": {},
     "output_type": "execute_result"
    }
   ],
   "source": [
    "def search(nums: list, target: int) -> int:\n",
    "    left, right = 0, len(nums) - 1\n",
    "\n",
    "    while left <= right:\n",
    "        mid = (left + right) // 2\n",
    "\n",
    "        if nums[mid] == target:\n",
    "            return mid\n",
    "        elif nums[left] <= nums[mid]:\n",
    "            if nums[left] <= target < nums[mid]:\n",
    "                right = mid - 1\n",
    "            else:\n",
    "                left = mid + 1\n",
    "        else:\n",
    "            if nums[mid] < target <= nums[right]:\n",
    "                left = mid + 1\n",
    "            else:\n",
    "                right = mid - 1\n",
    "\n",
    "    return -1\n",
    "\n",
    "\n",
    "nums = [4,5,6,7,0,1,2]\n",
    "target = 0\n",
    "\n",
    "search(nums, target)"
   ]
  },
  {
   "cell_type": "markdown",
   "metadata": {},
   "source": [
    "#### Top K Elements"
   ]
  },
  {
   "cell_type": "markdown",
   "metadata": {},
   "source": [
    "##### 数组中第 `K` 大元素\n",
    "\n",
    "- 给给定一个整数数组nums和一个整数 `k`，返回数组中最大的元素"
   ]
  },
  {
   "cell_type": "code",
   "execution_count": 70,
   "metadata": {},
   "outputs": [
    {
     "name": "stdout",
     "output_type": "stream",
     "text": [
      "5\n",
      "5\n"
     ]
    }
   ],
   "source": [
    "import heapq\n",
    "\n",
    "\n",
    "# sort\n",
    "def find_kth_larges(nums: list, k: int) -> int:\n",
    "    nums.sort(reverse=True)\n",
    "    return nums[k-1]\n",
    "\n",
    "\n",
    "# 堆排序\n",
    "def nlargest(nums: list, k: int) -> int:\n",
    "    return heapq.nlargest(k, nums)[-1]\n",
    "\n",
    "\n",
    "nums = [3,2,1,5,6,4]\n",
    "k = 2\n",
    "\n",
    "print(find_kth_larges(nums, k))\n",
    "print(nlargest(nums, k))"
   ]
  },
  {
   "cell_type": "markdown",
   "metadata": {},
   "source": [
    "#### Binary Tree DFS"
   ]
  },
  {
   "cell_type": "markdown",
   "metadata": {},
   "source": [
    "##### DFS （前序遍历）"
   ]
  },
  {
   "cell_type": "code",
   "execution_count": 71,
   "metadata": {},
   "outputs": [
    {
     "name": "stdout",
     "output_type": "stream",
     "text": [
      "1\n",
      "2\n",
      "4\n",
      "5\n",
      "3\n"
     ]
    },
    {
     "data": {
      "text/plain": [
       "[1, 2, 4, 5, 3]"
      ]
     },
     "execution_count": 71,
     "metadata": {},
     "output_type": "execute_result"
    }
   ],
   "source": [
    "class TreeNode:\n",
    "    def __init__(self, val=0, left=None, right=None):\n",
    "        self.val = val\n",
    "        self.left = left\n",
    "        self.right = right\n",
    "\n",
    "\n",
    "# 递归实现\n",
    "def preorder_traversal(node):\n",
    "    if node is not None:\n",
    "        print(node.val)\n",
    "        preorder_traversal(node.left)\n",
    "        preorder_traversal(node.right)\n",
    "\n",
    "\n",
    "# 循环实现\n",
    "def preorder_traversal_loop(root):\n",
    "    result = []\n",
    "    stack = [root]\n",
    "    \n",
    "    while stack:\n",
    "        node = stack.pop()\n",
    "        result.append(node.val)\n",
    "        \n",
    "        if node.right:\n",
    "            stack.append(node.right)\n",
    "        if node.left:\n",
    "            stack.append(node.left)\n",
    "    \n",
    "    return result\n",
    "\n",
    "\n",
    "# 构建一个简单的二叉树\n",
    "#       1\n",
    "#      / \\\n",
    "#     2   3\n",
    "#    / \\\n",
    "#   4   5\n",
    "root = TreeNode(1)\n",
    "root.left = TreeNode(2)\n",
    "root.right = TreeNode(3)\n",
    "root.left.left = TreeNode(4)\n",
    "root.left.right = TreeNode(5)\n",
    "\n",
    "\n",
    "preorder_traversal(root)\n",
    "preorder_traversal_loop(root)"
   ]
  },
  {
   "cell_type": "markdown",
   "metadata": {},
   "source": [
    "##### DFS （中序遍历）"
   ]
  },
  {
   "cell_type": "code",
   "execution_count": 72,
   "metadata": {},
   "outputs": [
    {
     "name": "stdout",
     "output_type": "stream",
     "text": [
      "4\n",
      "2\n",
      "5\n",
      "1\n",
      "3\n"
     ]
    },
    {
     "data": {
      "text/plain": [
       "[4, 2, 5, 1, 3]"
      ]
     },
     "execution_count": 72,
     "metadata": {},
     "output_type": "execute_result"
    }
   ],
   "source": [
    "# 递归实现\n",
    "def inorder_traversal(node):\n",
    "    if node is not None:\n",
    "        inorder_traversal(node.left)\n",
    "        print(node.val)\n",
    "        inorder_traversal(node.right)\n",
    "\n",
    "\n",
    "# 循环实现\n",
    "def inorder_traversal_loop(root):\n",
    "    result = []\n",
    "    stack = []\n",
    "    current = root\n",
    "    \n",
    "    while current or stack:\n",
    "        while current:\n",
    "            stack.append(current)\n",
    "            current = current.left\n",
    "        \n",
    "        current = stack.pop()\n",
    "        result.append(current.val)\n",
    "        current = current.right\n",
    "    \n",
    "    return result\n",
    "\n",
    "\n",
    "inorder_traversal(root)\n",
    "inorder_traversal_loop(root)"
   ]
  },
  {
   "cell_type": "markdown",
   "metadata": {},
   "source": [
    "##### DFS （后序遍历）"
   ]
  },
  {
   "cell_type": "code",
   "execution_count": 73,
   "metadata": {},
   "outputs": [
    {
     "name": "stdout",
     "output_type": "stream",
     "text": [
      "4\n",
      "5\n",
      "2\n",
      "3\n",
      "1\n",
      "[4, 5, 2, 3, 1]\n",
      "[3, 5, 4, 2, 1]\n"
     ]
    }
   ],
   "source": [
    "# 递归实现\n",
    "def postorder_traversal(node):\n",
    "    if node is not None:\n",
    "        postorder_traversal(node.left)\n",
    "        postorder_traversal(node.right)\n",
    "        print(node.val)\n",
    "\n",
    "\n",
    "# 循环实现\n",
    "def postorder_traversal_loop(root):\n",
    "    result = []\n",
    "    stack = [root]\n",
    "    \n",
    "    while stack:\n",
    "        node = stack.pop()\n",
    "        result.append(node.val)\n",
    "        \n",
    "        if node.left:\n",
    "            stack.append(node.left)\n",
    "        if node.right:\n",
    "            stack.append(node.right)\n",
    "    \n",
    "    return result[::-1]\n",
    "\n",
    "\n",
    "# 倒序前序遍历结果\n",
    "def reverse_postorder_traversal(root):\n",
    "    return preorder_traversal_loop(root)[::-1]\n",
    "\n",
    "\n",
    "postorder_traversal(root)\n",
    "print(postorder_traversal_loop(root))\n",
    "print(reverse_postorder_traversal(root))"
   ]
  },
  {
   "cell_type": "markdown",
   "metadata": {},
   "source": [
    "##### 计算树的深度"
   ]
  },
  {
   "cell_type": "code",
   "execution_count": 74,
   "metadata": {},
   "outputs": [
    {
     "data": {
      "text/plain": [
       "3"
      ]
     },
     "execution_count": 74,
     "metadata": {},
     "output_type": "execute_result"
    }
   ],
   "source": [
    "def tree_depth(node):\n",
    "    if node is None:\n",
    "        return 0\n",
    "    \n",
    "    left_depth = tree_depth(node.left)\n",
    "    right_depth = tree_depth(node.right)\n",
    "    \n",
    "    return max(left_depth, right_depth) + 1\n",
    "\n",
    "\n",
    "tree_depth(root)"
   ]
  },
  {
   "cell_type": "markdown",
   "metadata": {},
   "source": [
    "#### Binary Tree BFS"
   ]
  },
  {
   "cell_type": "code",
   "execution_count": 75,
   "metadata": {},
   "outputs": [
    {
     "data": {
      "text/plain": [
       "[1, 2, 3, 4, 5]"
      ]
     },
     "execution_count": 75,
     "metadata": {},
     "output_type": "execute_result"
    }
   ],
   "source": [
    "def bfs_binary_tree(root):\n",
    "    node_list = [root]\n",
    "    result = []\n",
    "    \n",
    "    while node_list:\n",
    "        node = node_list.pop(0)\n",
    "        result.append(node.val)\n",
    "        \n",
    "        if node.left:\n",
    "            node_list.append(node.left)\n",
    "        if node.right:\n",
    "            node_list.append(node.right)\n",
    "\n",
    "    return result\n",
    "\n",
    "\n",
    "bfs_binary_tree(root)"
   ]
  },
  {
   "cell_type": "markdown",
   "metadata": {},
   "source": [
    "#### Topological"
   ]
  },
  {
   "cell_type": "markdown",
   "metadata": {},
   "source": [
    "##### 最短路径\n",
    "\n",
    "- Dijkstra"
   ]
  },
  {
   "cell_type": "code",
   "execution_count": 76,
   "metadata": {},
   "outputs": [
    {
     "name": "stdout",
     "output_type": "stream",
     "text": [
      "{'A': 0, 'C': 3, 'B': 4, 'D': 6}\n"
     ]
    }
   ],
   "source": [
    "def dijkstra(graph, node):\n",
    "    S = {node: 0}\n",
    "    U = dict({point: float(\"infinity\") for point in graph}, **graph.get(node))\n",
    "    U.pop(node, None)\n",
    "\n",
    "    while len(U) > 0:\n",
    "        U = dict(sorted(U.items(), key=lambda item: item[1], reverse=True))\n",
    "        cur_point, cur_dis = U.popitem()\n",
    "        S.update({cur_point: cur_dis})\n",
    "        \n",
    "        for point, dis in graph.get(cur_point).items():\n",
    "            if U.get(point) and U.get(point) >= dis + cur_dis:\n",
    "                U.update({point: dis + cur_dis})\n",
    "\n",
    "    return S\n",
    "\n",
    "\n",
    "graph = {\n",
    "    'A': {'B': 10, 'C': 3},\n",
    "    'B': {'A': 10, 'C': 1, 'D': 2},\n",
    "    'C': {'A': 3, 'B': 1, 'D': 4},\n",
    "    'D': {'B': 2, 'C': 4}\n",
    "}\n",
    "\n",
    "distances = dijkstra(graph, 'A')\n",
    "print(distances)"
   ]
  },
  {
   "cell_type": "markdown",
   "metadata": {},
   "source": [
    "##### BFS （广度优先）"
   ]
  },
  {
   "cell_type": "code",
   "execution_count": 77,
   "metadata": {},
   "outputs": [
    {
     "name": "stdout",
     "output_type": "stream",
     "text": [
      "['A', 'B', 'C', 'D', 'E', 'F', 'G', 'H']\n"
     ]
    }
   ],
   "source": [
    "def bfs_graph(graph, start):\n",
    "    result = []\n",
    "    queue = [start]\n",
    "\n",
    "    while len(queue) > 0:\n",
    "        point = queue.pop(0)\n",
    "        if point not in result:\n",
    "            result.append(point)\n",
    "            queue.extend(graph.get(point))\n",
    "\n",
    "    return result\n",
    "\n",
    "\n",
    "graph = {\n",
    "    'A': ['B', 'C', 'D'],\n",
    "    'B': ['A', 'E'],\n",
    "    'C': ['A', 'F'],\n",
    "    'D': ['A', 'G'],\n",
    "    'E': ['B', 'H'],\n",
    "    'F': ['C'],\n",
    "    'G': ['D'],\n",
    "    'H': ['E']\n",
    "}\n",
    "\n",
    "print(bfs_graph(graph, 'A'))"
   ]
  },
  {
   "cell_type": "markdown",
   "metadata": {},
   "source": [
    "##### DFS （前序遍历）"
   ]
  },
  {
   "cell_type": "code",
   "execution_count": 78,
   "metadata": {},
   "outputs": [
    {
     "data": {
      "text/plain": [
       "['A', 'D', 'G', 'C', 'F', 'B', 'E', 'H']"
      ]
     },
     "execution_count": 78,
     "metadata": {},
     "output_type": "execute_result"
    }
   ],
   "source": [
    "def preorder_graph(graph, start):\n",
    "    result = []\n",
    "    stack = [start]\n",
    "\n",
    "    while stack:\n",
    "        point = stack.pop()\n",
    "        if point not in result:\n",
    "            result.append(point)\n",
    "            stack.extend(graph.get(point))\n",
    "\n",
    "    return result\n",
    "\n",
    "\n",
    "preorder_graph(graph, 'A')"
   ]
  },
  {
   "cell_type": "markdown",
   "metadata": {},
   "source": [
    "##### DFS （后序遍历）"
   ]
  },
  {
   "cell_type": "code",
   "execution_count": 79,
   "metadata": {},
   "outputs": [
    {
     "data": {
      "text/plain": [
       "['H', 'E', 'B', 'F', 'C', 'G', 'D', 'A']"
      ]
     },
     "execution_count": 79,
     "metadata": {},
     "output_type": "execute_result"
    }
   ],
   "source": [
    "def postorder_graph(graph, start):\n",
    "    return preorder_graph(graph, start)[::-1]\n",
    "\n",
    "postorder_graph(graph, 'A')"
   ]
  },
  {
   "cell_type": "markdown",
   "metadata": {},
   "source": [
    "##### 课程表\n",
    "\n",
    "- [Course Schedule](https://leetcode.com/problems/course-schedule/description/)"
   ]
  },
  {
   "cell_type": "code",
   "execution_count": 80,
   "metadata": {},
   "outputs": [
    {
     "data": {
      "text/plain": [
       "(True, [4, 1, 2, 3], {4: {1, 2}, 1: {3}, 2: {3}})"
      ]
     },
     "execution_count": 80,
     "metadata": {},
     "output_type": "execute_result"
    }
   ],
   "source": [
    "def can_finish(prerequisites):\n",
    "    # 构建邻接表\n",
    "    graph = {}\n",
    "    for end, start in prerequisites:\n",
    "        graph[start] = graph.get(start, set()) | {end}\n",
    "\n",
    "    # 计算入度\n",
    "    indegree = {}\n",
    "    for start, ends in graph.items():\n",
    "        indegree.setdefault(start, 0)\n",
    "        for end in ends:\n",
    "            indegree[end] = indegree.get(end, 0) + 1\n",
    "\n",
    "    # khna\n",
    "    queue = {node for node, val in indegree.items() if val == 0}\n",
    "    result = []\n",
    "    while queue:\n",
    "        node = queue.pop()\n",
    "        result.append(node)\n",
    "        for key in graph.get(node, []):\n",
    "            indegree[key] -= 1\n",
    "            if indegree[key] == 0:\n",
    "                queue.add(key)\n",
    "    \n",
    "    return sum(indegree.values()) == 0, result, graph\n",
    "\n",
    "\n",
    "can_finish([[1,4],[2,4],[3,1],[3,2]])"
   ]
  },
  {
   "cell_type": "markdown",
   "metadata": {},
   "source": [
    "#### Two Pointer"
   ]
  },
  {
   "cell_type": "markdown",
   "metadata": {},
   "source": [
    "##### 两数之和\n",
    "\n",
    "- 升序数组内找到两个数字，使得它们加起来等于特定数字"
   ]
  },
  {
   "cell_type": "code",
   "execution_count": 81,
   "metadata": {},
   "outputs": [
    {
     "data": {
      "text/plain": [
       "[3, 4]"
      ]
     },
     "execution_count": 81,
     "metadata": {},
     "output_type": "execute_result"
    }
   ],
   "source": [
    "def two_sum(nums: list, target: int) -> list:\n",
    "    slow = 0\n",
    "    fast = len(nums) - 1\n",
    "\n",
    "    while True:\n",
    "        slow_fast_sum = nums[slow] + nums[fast]\n",
    "        if slow_fast_sum == target:\n",
    "            return [slow + 1, fast + 1]\n",
    "        elif slow_fast_sum > target:\n",
    "            fast -= 1\n",
    "        else:\n",
    "            slow += 1\n",
    "\n",
    "\n",
    "numbers = [-1000,-1,0,1]\n",
    "target = 1\n",
    "\n",
    "two_sum(numbers, target)"
   ]
  },
  {
   "cell_type": "markdown",
   "metadata": {},
   "source": [
    "#### 动态规划"
   ]
  },
  {
   "cell_type": "markdown",
   "metadata": {},
   "source": [
    "##### 最长公共子序列"
   ]
  },
  {
   "cell_type": "code",
   "execution_count": 82,
   "metadata": {},
   "outputs": [
    {
     "data": {
      "text/plain": [
       "'AEF'"
      ]
     },
     "execution_count": 82,
     "metadata": {},
     "output_type": "execute_result"
    }
   ],
   "source": [
    "def LCS(X, Y):\n",
    "    m = len(X) + 1\n",
    "    n = len(Y) + 1\n",
    "    martix = [[0] * n for _ in range(m)]\n",
    "\n",
    "    for row in range(1, m):\n",
    "        for col in range(1, n):\n",
    "            if X[row - 1] == Y[col - 1]:\n",
    "                martix[row][col] = martix[row - 1][col - 1] + 1\n",
    "            else:\n",
    "                martix[row][col] = max(martix[row][col - 1], martix[row - 1][col])\n",
    "    \n",
    "    return restore_seq(X, Y, m, n, martix)\n",
    "\n",
    "\n",
    "def restore_seq(X, Y, m, n, martix):\n",
    "    seq = []\n",
    "    \n",
    "    while m > 0 and n > 0:\n",
    "        if X[m - 2] == Y[n - 2]:\n",
    "            seq.append(X[m - 2])\n",
    "            m -= 1\n",
    "            n -= 1\n",
    "        elif martix[m - 1][n - 2] < martix[m - 2][n - 1]:\n",
    "            m -= 1\n",
    "        else:\n",
    "            n -= 1\n",
    "    \n",
    "    return \"\".join(seq)[::-1]\n",
    "\n",
    "\n",
    "LCS(\"ABEFF\", \"ADEOFOOBP\")"
   ]
  },
  {
   "cell_type": "markdown",
   "metadata": {},
   "source": [
    "##### 最长公共子串"
   ]
  },
  {
   "cell_type": "code",
   "execution_count": 83,
   "metadata": {},
   "outputs": [
    {
     "data": {
      "text/plain": [
       "'ABPL'"
      ]
     },
     "execution_count": 83,
     "metadata": {},
     "output_type": "execute_result"
    }
   ],
   "source": [
    "def LCS(X, Y):\n",
    "    m = len(X)\n",
    "    n = len(Y)\n",
    "    martix = [[0] * (n + 1) for _ in range(m + 1)]\n",
    "    max_x = 0\n",
    "    max_y = 0\n",
    "    seq = []\n",
    "\n",
    "    for row in range(1, m + 1):\n",
    "        for col in range(1, n + 1):\n",
    "            if X[row - 1] == Y[col - 1]:\n",
    "                martix[row][col] = martix[row - 1][col - 1] + 1\n",
    "                if martix[row][col] >= martix[max_x][max_y]:\n",
    "                    max_x, max_y = row, col\n",
    "    \n",
    "    while martix[max_x][max_y]:\n",
    "        seq.append(X[max_x - 1])\n",
    "        max_x -= 1\n",
    "        max_y -= 1\n",
    "\n",
    "    return \"\".join(seq)[::-1]\n",
    "\n",
    "\n",
    "LCS(\"ABCBDCBABPLB\", \"BDCABPLL\")"
   ]
  },
  {
   "cell_type": "markdown",
   "metadata": {},
   "source": [
    "##### 不同路径"
   ]
  },
  {
   "cell_type": "code",
   "execution_count": 84,
   "metadata": {},
   "outputs": [
    {
     "data": {
      "text/plain": [
       "13594824"
      ]
     },
     "execution_count": 84,
     "metadata": {},
     "output_type": "execute_result"
    }
   ],
   "source": [
    "def func(m, n, obstacle_grid):\n",
    "    matrix = [[0] * (n + 1) for _ in range(m + 1)]\n",
    "    matrix[1][1] = 1\n",
    "\n",
    "    for row in range(1, m + 1):\n",
    "        for col in range(1, n + 1):\n",
    "            if obstacle_grid[row - 1][col - 1]:\n",
    "                matrix[row][col] = 0\n",
    "            else:\n",
    "                matrix[row][col] += matrix[row - 1][col] + matrix[row][col - 1]\n",
    "\n",
    "    return matrix[-1][-1]\n",
    "\n",
    "\n",
    "nums = [[0,0,0,0,0,1,0,1,0,0,0,0,1,0,0,0,0,0],[0,0,0,0,0,0,1,0,0,0,0,1,0,1,0,1,0,0],\n",
    "        [1,0,0,0,0,0,1,0,0,0,0,0,1,0,1,1,0,1],[0,0,0,1,0,0,1,0,0,0,0,0,0,0,0,0,0,0],\n",
    "        [0,0,0,0,0,1,0,0,0,0,0,0,0,0,0,0,0,0],[0,0,0,0,0,0,0,0,0,0,1,0,0,0,0,0,1,0],\n",
    "        [0,0,0,0,0,1,0,0,0,0,1,1,0,1,0,0,0,0],[1,0,0,0,1,0,0,1,0,0,0,0,0,0,0,0,1,0],\n",
    "        [0,0,0,0,1,0,0,0,1,0,0,0,1,0,0,0,0,0],[0,0,0,0,0,1,0,0,0,0,0,0,1,0,0,0,0,0],\n",
    "        [0,0,0,0,0,0,0,0,0,0,0,0,0,0,0,0,0,0],[1,1,0,0,0,0,0,0,0,0,1,0,0,0,0,1,0,0],\n",
    "        [0,0,1,0,1,0,0,0,0,0,0,1,0,0,0,0,0,0],[0,1,0,0,0,1,0,0,0,0,0,0,0,0,1,0,0,0],\n",
    "        [0,0,1,0,0,0,0,1,0,0,0,0,0,1,0,0,0,1],[0,1,0,1,0,1,0,0,0,0,0,0,0,1,0,0,0,0],\n",
    "        [0,0,0,0,0,0,0,0,0,0,0,0,1,0,0,0,0,1],[1,0,1,1,0,0,0,0,0,0,1,0,1,0,0,0,1,0],\n",
    "        [0,0,0,1,0,0,0,0,1,1,1,0,0,1,0,1,1,0],[0,1,0,1,0,0,0,0,0,0,0,0,0,0,0,0,0,0],\n",
    "        [0,1,1,0,0,1,0,0,0,0,0,0,0,1,1,0,0,0],[0,0,0,0,0,0,1,0,1,0,0,1,0,1,1,1,0,0],\n",
    "        [0,0,0,1,0,0,0,0,0,0,0,0,0,0,1,0,1,1],[0,1,0,0,0,0,0,0,0,0,1,0,1,0,1,0,1,0],\n",
    "        [1,0,0,1,0,1,0,0,1,0,0,0,0,0,0,0,0,0],[0,0,0,1,0,0,1,0,0,0,0,0,0,0,0,0,0,0],\n",
    "        [0,1,0,0,0,0,0,1,0,0,0,0,0,0,1,1,1,0],[1,0,1,0,1,0,0,0,0,0,0,1,1,0,0,0,0,1],\n",
    "        [1,0,0,0,0,0,1,1,0,0,0,1,0,0,0,0,0,0]]\n",
    "m = len(nums)\n",
    "n = len(nums[0])\n",
    "func(m, n, nums)"
   ]
  },
  {
   "cell_type": "markdown",
   "metadata": {},
   "source": [
    "##### 爬楼梯"
   ]
  },
  {
   "cell_type": "code",
   "execution_count": 85,
   "metadata": {},
   "outputs": [
    {
     "data": {
      "text/plain": [
       "5"
      ]
     },
     "execution_count": 85,
     "metadata": {},
     "output_type": "execute_result"
    }
   ],
   "source": [
    "def func(num):\n",
    "    pre, next = 1, 1\n",
    "\n",
    "    for _ in range(3, num + 2):\n",
    "        pre, next = next, pre + next\n",
    "    \n",
    "    return next\n",
    "\n",
    "\n",
    "func(4)"
   ]
  },
  {
   "cell_type": "markdown",
   "metadata": {},
   "source": [
    "#### 贪心算法"
   ]
  },
  {
   "cell_type": "markdown",
   "metadata": {},
   "source": [
    "##### 主持人调度"
   ]
  },
  {
   "cell_type": "code",
   "execution_count": 86,
   "metadata": {},
   "outputs": [
    {
     "data": {
      "text/plain": [
       "19"
      ]
     },
     "execution_count": 86,
     "metadata": {},
     "output_type": "execute_result"
    }
   ],
   "source": [
    "import heapq\n",
    "\n",
    "\n",
    "def minmum_num_of_host(nums):\n",
    "    nums = sorted(nums, key=lambda item: (item[0], item[1]), reverse=False)\n",
    "    hosts = [-float(\"inf\")]\n",
    "\n",
    "    for start, end in nums:\n",
    "        if hosts[0] <= start:\n",
    "            heapq.heappop(hosts) \n",
    "        heapq.heappush(hosts, end)\n",
    "\n",
    "    return len(hosts)\n",
    "\n",
    "\n",
    "nums = [[547,612],[417,551],[132,132],\n",
    "        [168,446],[95,747],[187,908],\n",
    "        [115,712],[15,329],[612,900],\n",
    "        [3,509],[181,200],[562,787],\n",
    "        [136,268],[36,784],[533,573],\n",
    "        [165,946],[343,442],[127,725],\n",
    "        [557,991],[604,613],[633,721],\n",
    "        [287,847],[414,480],[428,698],\n",
    "        [437,616],[475,932],[652,886],\n",
    "        [19,992],[132,543],[390,869],\n",
    "        [754,903],[284,925],[511,951],\n",
    "        [272,739]]\n",
    "minmum_num_of_host(nums)"
   ]
  },
  {
   "cell_type": "markdown",
   "metadata": {},
   "source": [
    "#### 回溯/递归/分治"
   ]
  },
  {
   "cell_type": "markdown",
   "metadata": {},
   "source": [
    "##### 有重复项数字的全排列"
   ]
  },
  {
   "cell_type": "code",
   "execution_count": 87,
   "metadata": {},
   "outputs": [
    {
     "data": {
      "text/plain": [
       "[(1, 1, 2), (1, 2, 1), (2, 1, 1)]"
      ]
     },
     "execution_count": 87,
     "metadata": {},
     "output_type": "execute_result"
    }
   ],
   "source": [
    "def permute_unique(num):\n",
    "    return sorted(set(permutations(num)))\n",
    "\n",
    "\n",
    "permute_unique([1,1,2])"
   ]
  },
  {
   "cell_type": "markdown",
   "metadata": {},
   "source": [
    "##### 字符串排列"
   ]
  },
  {
   "cell_type": "code",
   "execution_count": 88,
   "metadata": {},
   "outputs": [
    {
     "data": {
      "text/plain": [
       "['ABCD',\n",
       " 'ABDC',\n",
       " 'ACBD',\n",
       " 'ACDB',\n",
       " 'ADBC',\n",
       " 'ADCB',\n",
       " 'BACD',\n",
       " 'BADC',\n",
       " 'BCAD',\n",
       " 'BCDA',\n",
       " 'BDAC',\n",
       " 'BDCA',\n",
       " 'CABD',\n",
       " 'CADB',\n",
       " 'CBAD',\n",
       " 'CBDA',\n",
       " 'CDAB',\n",
       " 'CDBA',\n",
       " 'DABC',\n",
       " 'DACB',\n",
       " 'DBAC',\n",
       " 'DBCA',\n",
       " 'DCAB',\n",
       " 'DCBA']"
      ]
     },
     "execution_count": 88,
     "metadata": {},
     "output_type": "execute_result"
    }
   ],
   "source": [
    "from itertools import permutations\n",
    "\n",
    "\n",
    "def permute_substr(string):\n",
    "    return list(map(lambda item: \"\".join(item), permutations(string)))\n",
    "\n",
    "\n",
    "permute_substr(\"ABCD\")"
   ]
  },
  {
   "cell_type": "code",
   "execution_count": 89,
   "metadata": {},
   "outputs": [
    {
     "data": {
      "text/plain": [
       "['ABCD',\n",
       " 'ABDC',\n",
       " 'ACBD',\n",
       " 'ACDB',\n",
       " 'ADBC',\n",
       " 'ADCB',\n",
       " 'BACD',\n",
       " 'BADC',\n",
       " 'BCAD',\n",
       " 'BCDA',\n",
       " 'BDAC',\n",
       " 'BDCA',\n",
       " 'CABD',\n",
       " 'CADB',\n",
       " 'CBAD',\n",
       " 'CBDA',\n",
       " 'CDAB',\n",
       " 'CDBA',\n",
       " 'DABC',\n",
       " 'DACB',\n",
       " 'DBAC',\n",
       " 'DBCA',\n",
       " 'DCAB',\n",
       " 'DCBA']"
      ]
     },
     "execution_count": 89,
     "metadata": {},
     "output_type": "execute_result"
    }
   ],
   "source": [
    "def permute_substr(string):\n",
    "    cur_idx = 0\n",
    "    cur_sbustrs = [string]\n",
    "    next_substrs = []\n",
    "\n",
    "    while cur_idx < len(string) - 1:\n",
    "        substr = cur_sbustrs.pop()\n",
    "        \n",
    "        for idx in range(cur_idx, len(string)):\n",
    "            newstr = list(substr)\n",
    "            newstr[idx], newstr[cur_idx] = newstr[cur_idx], newstr[idx]\n",
    "            next_substrs.append(\"\".join(newstr))\n",
    "        \n",
    "        if not cur_sbustrs:\n",
    "            cur_sbustrs = next_substrs\n",
    "            next_substrs = []\n",
    "            cur_idx += 1\n",
    "    \n",
    "    return sorted(set(cur_sbustrs))\n",
    "\n",
    "\n",
    "permute_substr(\"ABCD\")"
   ]
  },
  {
   "cell_type": "markdown",
   "metadata": {},
   "source": [
    "##### 不同路径"
   ]
  },
  {
   "cell_type": "code",
   "execution_count": 90,
   "metadata": {},
   "outputs": [
    {
     "data": {
      "text/plain": [
       "1"
      ]
     },
     "execution_count": 90,
     "metadata": {},
     "output_type": "execute_result"
    }
   ],
   "source": [
    "def func(obstacle_grid):\n",
    "    result = 0\n",
    "    cur_grid = [(0,0)]\n",
    "\n",
    "    while cur_grid:\n",
    "        x, y = cur_grid.pop()\n",
    "        row = len(obstacle_grid)\n",
    "        col = len(obstacle_grid[x])\n",
    "\n",
    "        if obstacle_grid[x][y]:\n",
    "            continue\n",
    "        if x == row - 1 and y == col - 1:\n",
    "            result += 1\n",
    "        if x + 1 < row:\n",
    "            cur_grid.append((x + 1, y))\n",
    "        if y + 1 < col:\n",
    "            cur_grid.append((x, y + 1))\n",
    "            \n",
    "    return result\n",
    "\n",
    "\n",
    "func([[0]])"
   ]
  },
  {
   "cell_type": "markdown",
   "metadata": {},
   "source": [
    "#### 排序算法"
   ]
  },
  {
   "cell_type": "markdown",
   "metadata": {},
   "source": [
    "##### 冒泡排序"
   ]
  },
  {
   "cell_type": "code",
   "execution_count": 91,
   "metadata": {},
   "outputs": [
    {
     "data": {
      "text/plain": [
       "[-1000, -100, -7, 1, 1, 2, 3, 4, 6, 9, 17, 23, 23, 32]"
      ]
     },
     "execution_count": 91,
     "metadata": {},
     "output_type": "execute_result"
    }
   ],
   "source": [
    "def sort(nums):\n",
    "    for i in range(len(nums) - 1):\n",
    "        for j in range(i + 1, len(nums)):\n",
    "            if nums[i] > nums[j]:\n",
    "                nums[i], nums[j] = nums[j], nums[i]\n",
    "    \n",
    "    return nums\n",
    "\n",
    "\n",
    "sort([1,3,32,4,1,-100,23,17,23,6,-7,2,9,-1000])"
   ]
  },
  {
   "cell_type": "markdown",
   "metadata": {},
   "source": [
    "##### 选择排序"
   ]
  },
  {
   "cell_type": "code",
   "execution_count": 92,
   "metadata": {},
   "outputs": [
    {
     "data": {
      "text/plain": [
       "[-1000, -100, -7, 1, 1, 2, 3, 4, 6, 9, 17, 23, 23, 32]"
      ]
     },
     "execution_count": 92,
     "metadata": {},
     "output_type": "execute_result"
    }
   ],
   "source": [
    "def sort(nums):\n",
    "    for i in range(len(nums) - 1):\n",
    "        min_idx = i\n",
    "        \n",
    "        for j in range(i + 1, len(nums)):\n",
    "            if nums[j] < nums[min_idx]:\n",
    "                min_idx = j\n",
    "\n",
    "        nums[i], nums[min_idx] = nums[min_idx], nums[i]\n",
    "    \n",
    "    return nums\n",
    "\n",
    "\n",
    "sort([1,3,32,4,1,-100,23,17,23,6,-7,2,9,-1000])"
   ]
  },
  {
   "cell_type": "markdown",
   "metadata": {},
   "source": [
    "##### 插入排序"
   ]
  },
  {
   "cell_type": "code",
   "execution_count": 93,
   "metadata": {},
   "outputs": [
    {
     "data": {
      "text/plain": [
       "[-1000, -100, -7, 1, 1, 2, 3, 4, 6, 9, 17, 23, 23, 32]"
      ]
     },
     "execution_count": 93,
     "metadata": {},
     "output_type": "execute_result"
    }
   ],
   "source": [
    "def sort(nums):\n",
    "    for i in range(1, len(nums)):\n",
    "        base = nums[i]\n",
    "\n",
    "        while i > 0 and base <= nums[i - 1]:\n",
    "            nums[i] = nums[i - 1]\n",
    "            i -= 1\n",
    "\n",
    "        nums[i] = base\n",
    "    \n",
    "    return nums\n",
    "\n",
    "\n",
    "sort([1,3,32,4,1,-100,23,17,23,6,-7,2,9,-1000])"
   ]
  },
  {
   "cell_type": "markdown",
   "metadata": {},
   "source": [
    "##### 快速排序"
   ]
  },
  {
   "cell_type": "code",
   "execution_count": 94,
   "metadata": {},
   "outputs": [
    {
     "name": "stdout",
     "output_type": "stream",
     "text": [
      "[-1000, -100, -7, 1, 1, 2, 3, 4, 6, 9, 17, 23, 23, 32]\n"
     ]
    }
   ],
   "source": [
    "def partition(nums, left, right):\n",
    "    i, j = left, right\n",
    "\n",
    "    while i < j:\n",
    "        while i < j and nums[j] >= nums[left]:\n",
    "            j -= 1\n",
    "        while i < j and nums[i] <= nums[left]:\n",
    "            i += 1\n",
    "        nums[i], nums[j] = nums[j], nums[i]\n",
    "\n",
    "    nums[left], nums[i] = nums[i], nums[left]\n",
    "    return i\n",
    "\n",
    "\n",
    "def sort(nums, left, right):\n",
    "    if left >= right:\n",
    "        return\n",
    "    \n",
    "    idx = partition(nums, left, right)\n",
    "    sort(nums, left, idx - 1)\n",
    "    sort(nums, idx + 1, right)\n",
    "\n",
    "\n",
    "nums = [1,3,32,4,1,-100,23,17,23,6,-7,2,9,-1000]\n",
    "left = 0\n",
    "right = len(nums) - 1\n",
    "\n",
    "sort(nums, left, right)\n",
    "print(nums)"
   ]
  },
  {
   "cell_type": "markdown",
   "metadata": {},
   "source": [
    "##### 归并排序"
   ]
  },
  {
   "cell_type": "code",
   "execution_count": 95,
   "metadata": {},
   "outputs": [
    {
     "name": "stdout",
     "output_type": "stream",
     "text": [
      "[-1000, -100, -7, 1, 1, 2, 3, 4, 6, 9, 17, 23, 23, 32]\n"
     ]
    }
   ],
   "source": [
    "def merge(nums, left, mid, right):\n",
    "    i, j = left, mid + 1\n",
    "    tmp_array = []\n",
    "    while i <= mid and j <= right:\n",
    "        if nums[i] <= nums[j]:\n",
    "            tmp_array.append(nums[i])\n",
    "            i += 1\n",
    "        else:\n",
    "            tmp_array.append(nums[j])\n",
    "            j += 1\n",
    "    \n",
    "    if i <= mid:\n",
    "        tmp_array.extend(nums[i:mid + 1])\n",
    "    else:\n",
    "        tmp_array.extend(nums[j:right + 1])\n",
    "    \n",
    "    nums[left:right + 1] = tmp_array\n",
    "\n",
    "\n",
    "def sort(nums, left, right):\n",
    "    if left >= right:\n",
    "        return\n",
    "    \n",
    "    mid = (right + left) // 2\n",
    "    sort(nums, left, mid)\n",
    "    sort(nums, mid + 1, right)\n",
    "    merge(nums, left, mid, right)\n",
    "\n",
    "\n",
    "nums = [1,3,32,4,1,-100,23,17,23,6,-7,2,9,-1000]\n",
    "left = 0\n",
    "right = len(nums) - 1\n",
    "\n",
    "sort(nums, left, right)\n",
    "print(nums)"
   ]
  },
  {
   "cell_type": "markdown",
   "metadata": {},
   "source": [
    "##### 堆排序"
   ]
  },
  {
   "cell_type": "code",
   "execution_count": 96,
   "metadata": {},
   "outputs": [
    {
     "name": "stdout",
     "output_type": "stream",
     "text": [
      "[-1000, -100, -7, 1, 1, 2, 3, 4, 6, 9, 17, 23, 23, 32]\n"
     ]
    }
   ],
   "source": [
    "def sift_down(nums, n, i):\n",
    "    while True:\n",
    "        max_idx = i\n",
    "        l_idx = 2 * i + 1\n",
    "        r_idx = 2 * i + 2\n",
    "\n",
    "        if l_idx < n and nums[l_idx] > nums[max_idx]:\n",
    "            max_idx = l_idx\n",
    "        if r_idx <  n and nums[r_idx] > nums[max_idx]:\n",
    "            max_idx = r_idx\n",
    "        if max_idx == i:\n",
    "            break\n",
    "\n",
    "        nums[max_idx], nums[i] = nums[i], nums[max_idx]\n",
    "        i = max_idx\n",
    "\n",
    "\n",
    "def heap_sort(nums, n):\n",
    "    for i in range(n // 2 - 1, -1, -1):\n",
    "        sift_down(nums, n, i)\n",
    "    for i in range(n - 1, -1, -1):\n",
    "        nums[0], nums[i] = nums[i], nums[0]\n",
    "        sift_down(nums, i, 0)\n",
    "    return nums\n",
    "\n",
    "\n",
    "nums = [1,3,32,4,1,-100,23,17,23,6,-7,2,9,-1000]\n",
    "n = len(nums)\n",
    "\n",
    "print(heap_sort(nums, n))"
   ]
  },
  {
   "cell_type": "markdown",
   "metadata": {},
   "source": [
    "> 上述基于比较的排序算法始终无法突破 $O(n \\log n)$"
   ]
  },
  {
   "cell_type": "markdown",
   "metadata": {},
   "source": [
    "##### 桶排序"
   ]
  },
  {
   "cell_type": "code",
   "execution_count": 97,
   "metadata": {},
   "outputs": [
    {
     "name": "stdout",
     "output_type": "stream",
     "text": [
      "[0.68, 0.34, 0.84, 0.87, 0.15, 0.76, 0.35, 0.98, 0.93, 0.6]\n",
      "[0.15, 0.34, 0.35, 0.6, 0.68, 0.76, 0.84, 0.87, 0.93, 0.98]\n"
     ]
    }
   ],
   "source": [
    "import random\n",
    "\n",
    "\n",
    "def sort(nums):\n",
    "    k = len(nums) // 2\n",
    "    buckets = [[] for _ in range(k)]\n",
    "    new_nums = []\n",
    "\n",
    "    for num in nums:\n",
    "        buckets[int(num * k)].append(num)\n",
    "    for bucket in buckets:\n",
    "        bucket.sort()\n",
    "        new_nums.extend(bucket)\n",
    "    \n",
    "    return new_nums\n",
    "\n",
    "\n",
    "nums = [random.randrange(0, 100) / 100 for _ in range(10)]\n",
    "print(nums)\n",
    "print(sort(nums))"
   ]
  },
  {
   "cell_type": "markdown",
   "metadata": {},
   "source": [
    "##### 计数排序"
   ]
  },
  {
   "cell_type": "code",
   "execution_count": 98,
   "metadata": {},
   "outputs": [
    {
     "name": "stdout",
     "output_type": "stream",
     "text": [
      "[34, 36, 86, 58, 89, 23, 60, 87, 20, 79]\n",
      "[20, 23, 34, 36, 58, 60, 79, 86, 87, 89]\n"
     ]
    }
   ],
   "source": [
    "import random\n",
    "\n",
    "\n",
    "def sort(nums):\n",
    "    cnt_array = [0] * (max(nums) + 1)\n",
    "    new_nums = []\n",
    "    \n",
    "    for num in nums:\n",
    "        cnt_array[num] += 1\n",
    "    \n",
    "    for idx, cnt in enumerate(cnt_array):\n",
    "        new_nums.extend([idx] * cnt)\n",
    "    \n",
    "    return new_nums\n",
    "\n",
    "\n",
    "nums = [random.randrange(0, 100) for _ in range(10)]\n",
    "print(nums)\n",
    "print(sort(nums))"
   ]
  },
  {
   "cell_type": "markdown",
   "metadata": {},
   "source": [
    "##### 基数排序"
   ]
  },
  {
   "cell_type": "code",
   "execution_count": 99,
   "metadata": {},
   "outputs": [
    {
     "name": "stdout",
     "output_type": "stream",
     "text": [
      "[3005, 9436, 8928, 6070, 832, 9730, 7914, 2585]\n",
      "[832, 2585, 3005, 6070, 7914, 8928, 9436, 9730]\n"
     ]
    }
   ],
   "source": [
    "import random\n",
    "\n",
    "\n",
    "def sort(nums):\n",
    "    max_bit = max(nums)\n",
    "    base = 1\n",
    "\n",
    "    while base <= max_bit:\n",
    "        buckets = [[] for _ in range(10)]\n",
    "        new_nums = []\n",
    "        \n",
    "        for num in nums:\n",
    "            buckets[num // base % 10].append(num)\n",
    "        for bucket in buckets:\n",
    "            new_nums.extend(bucket)\n",
    "\n",
    "        nums = new_nums\n",
    "        base *= 10\n",
    "    \n",
    "    return nums\n",
    "\n",
    "\n",
    "nums = [random.randrange(0, 10000) for _ in range(8)]\n",
    "print(nums)\n",
    "print(sort(nums))"
   ]
  },
  {
   "cell_type": "markdown",
   "metadata": {},
   "source": [
    "> 上述基于非比较的排序算法可以达到线性复杂度"
   ]
  }
 ],
 "metadata": {
  "kernelspec": {
   "display_name": "Python 3",
   "language": "python",
   "name": "python3"
  },
  "language_info": {
   "codemirror_mode": {
    "name": "ipython",
    "version": 3
   },
   "file_extension": ".py",
   "mimetype": "text/x-python",
   "name": "python",
   "nbconvert_exporter": "python",
   "pygments_lexer": "ipython3",
   "version": "3.13.2"
  }
 },
 "nbformat": 4,
 "nbformat_minor": 2
}
